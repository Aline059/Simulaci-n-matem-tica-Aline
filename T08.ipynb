{
 "cells": [
  {
   "cell_type": "markdown",
   "id": "efc41911-103e-4973-bbb5-25e805cb5105",
   "metadata": {},
   "source": [
    "# **T08 Distribuciones de probabilidad**  \n",
    "**Aline Rockenzahn**   \n",
    "Martes 22 Octubre 2024   \n",
    "\n"
   ]
  },
  {
   "cell_type": "markdown",
   "id": "90367271-b8f7-4c9f-9b5a-784c7edd918a",
   "metadata": {},
   "source": [
    "Todos los ejercicios deben resolverce utilizando simulación de muestras aleatorias con la librería numpy."
   ]
  },
  {
   "cell_type": "markdown",
   "id": "3bb1c74d-fd9f-4fbb-a247-d3e597ad21f3",
   "metadata": {},
   "source": [
    "1.- Un proyecto de construcción está por comenzar. Se hace la compra de los materiales y el proveedor dice que en promedio tardan una semana con una desviación de 3 días en llegar. Una vez llegados los materiales se tarda entre 3 y 5 semanas en construir (uniforme). Después de la construcción se deben esperar 3 días antes de empezar a pintar, y toma 6 días en promedio con 2 días de desviación estándar hacerlo.\n",
    "\n",
    "a) Describe en una celda qué distribución usarías para cada paso del proceso\n",
    "\n",
    "b) Simula cada paso en el proceso un millón de veces\n",
    "\n",
    "c) Agrupa las simulaciones de cada paso para tener la simulación del proceso completo\n",
    "\n",
    "d) ¿Cuál es el tiempo promedio para de inicio-fin del proyecto?\n",
    "\n",
    "e) De acuerdo a tus simulaciones, ¿cuál es el peor caso? ¿cuál es el mejor caso?\n",
    "\n",
    "f) Si el proyecto se tiene que entregar a más tardar en 50 días o se tiene que pagar una compensación al cliente, ¿cuál es la probabilidad de que el proyecto se entregue a tiempo?\n",
    "\n",
    "g) ¿Cuál es la probabilidad de que el proyecto tome entre 20 y 40 días?"
   ]
  },
  {
   "cell_type": "markdown",
   "id": "a2e4d2dd-cf41-4019-bd27-a90172f7286e",
   "metadata": {},
   "source": [
    "a) Para los pasos de los días que tardan en llegar los materiales, así como el paso de pintar, usaría una distribución normal (campana de Gauss) debido a que ya me dan la media y la desviación estándar en cada paso, lo que quiere decir que las probabilidades de que algun número dentro de cierto rango sea elegido no son iguales siempre.  \n",
    "Para el paso de construcción usaría una distribución uniforme, porque ya me lo dice entre paréntesis.  \n",
    "Para el paso de esperar antes de pintar no utilizaría ninguna distribución, lo pondría como constante ya que ese valor nunca cambia. Siempre se tienen que esperar 3 días."
   ]
  },
  {
   "cell_type": "code",
   "execution_count": 530,
   "id": "6bdcd642-2d29-4367-85af-fea048c3b6eb",
   "metadata": {},
   "outputs": [
    {
     "data": {
      "text/plain": [
       "5.998612511632"
      ]
     },
     "execution_count": 530,
     "metadata": {},
     "output_type": "execute_result"
    }
   ],
   "source": [
    "#b) \n",
    "lista_materiales =[]\n",
    "for i in range(1000000):\n",
    "    dias_materiales = np.random.normal(loc=7, scale=3, size=None)\n",
    "    lista_materiales.append(dias_materiales)\n",
    "np.array(lista_materiales).mean() #imprimo la media pq si imprimo la lista de un millón de resultados sería demasiado larga \n",
    "\n",
    "lista_construccion = []\n",
    "for i in range(1000000):\n",
    "    dias_construccion = np.random.uniform(low=21, high=35,size=None)\n",
    "    lista_construccion.append(dias_construccion)\n",
    "np.array(lista_construccion).mean() \n",
    "\n",
    "lista_antes_pintar = []\n",
    "for i in range(1000000):\n",
    "    antes_pintar = 3 \n",
    "    lista_antes_pintar.append(antes_pintar)\n",
    "np.array(lista_antes_pintar).mean() \n",
    "\n",
    "lista_pintar = []\n",
    "for i in range(1000000):\n",
    "    pintar = np.random.normal(loc=6, scale=2, size=None)\n",
    "    lista_pintar.append(pintar)\n",
    "np.array(lista_pintar).mean() "
   ]
  },
  {
   "cell_type": "code",
   "execution_count": 534,
   "id": "630fe01d-7cbc-4c96-80d0-090c7101275b",
   "metadata": {},
   "outputs": [],
   "source": [
    "#c)\n",
    "import numpy as np \n",
    "import random \n",
    "\n",
    "def problema_1():\n",
    "    dias_materiales = np.random.normal(loc=7, scale=3, size=None) #hay alguna manera de que los valores que me de sean enteros?\n",
    "    #o sería usar directamente el random.choice? \n",
    "    dias_construccion = np.random.uniform(low=21, high=35,size=None)\n",
    "    antes_pintar = 3 \n",
    "    pintar = np.random.normal(loc=6, scale=2, size=None)\n",
    "    dias_tot = dias_materiales + dias_construccion + antes_pintar + pintar\n",
    "    return dias_tot \n",
    "\n"
   ]
  },
  {
   "cell_type": "code",
   "execution_count": 572,
   "id": "4e6feec7-ebb4-4b40-a474-aa3c84107f22",
   "metadata": {},
   "outputs": [],
   "source": [
    "#d) \n",
    "def montecarlo_1(n):\n",
    "    lista = [ ] \n",
    "    for i in range(n):\n",
    "        resultado = problema_1()\n",
    "        lista.append(resultado)\n",
    "    casos_dias = np.array(lista) \n",
    "    return casos_dias \n",
    "\n",
    "promedio_dias = montecarlo_1(100000).mean() \n",
    "promedio_semanas = promedio_dias/7 \n",
    "\n"
   ]
  },
  {
   "cell_type": "code",
   "execution_count": 570,
   "id": "1aaedd02-8a2d-475f-b7da-ee1c0ac02d69",
   "metadata": {},
   "outputs": [
    {
     "name": "stdout",
     "output_type": "stream",
     "text": [
      "El tiempo promedio desde el inicio hasta el fin del proyecto es de  44.01247288274137  dias o de  6.28749612610591  semanas\n"
     ]
    }
   ],
   "source": [
    "print(\"El tiempo promedio desde el inicio hasta el fin del proyecto es de \",promedio_dias,\" dias o de \", promedio_semanas, \" semanas\")  "
   ]
  },
  {
   "cell_type": "code",
   "execution_count": 574,
   "id": "36177daa-1c6b-4633-b038-c3629d6dd229",
   "metadata": {},
   "outputs": [
    {
     "data": {
      "text/plain": [
       "(66.54618579753678, 22.883354276945877)"
      ]
     },
     "execution_count": 574,
     "metadata": {},
     "output_type": "execute_result"
    }
   ],
   "source": [
    "#e) \n",
    "peor_caso = montecarlo_1(100000).max() \n",
    "mejor_caso = montecarlo_1(100000).min() \n",
    "peor_caso, mejor_caso "
   ]
  },
  {
   "cell_type": "code",
   "execution_count": 576,
   "id": "085a06c0-003f-4e90-bb74-94d4f586de97",
   "metadata": {},
   "outputs": [
    {
     "name": "stdout",
     "output_type": "stream",
     "text": [
      "El peor caso posible es que la construcción tome  66.54618579753678  días en terminarse y el mejor caso posible es que tome sólo  22.883354276945877  días\n"
     ]
    }
   ],
   "source": [
    "print(\"El peor caso posible es que la construcción tome \",peor_caso,\" días en terminarse y el mejor caso posible es que tome sólo \",mejor_caso,\" días\")"
   ]
  },
  {
   "cell_type": "code",
   "execution_count": 587,
   "id": "f4253f69-b83d-4a73-9548-3a08f6eb1977",
   "metadata": {},
   "outputs": [
    {
     "data": {
      "text/plain": [
       "0.85819"
      ]
     },
     "execution_count": 587,
     "metadata": {},
     "output_type": "execute_result"
    }
   ],
   "source": [
    "#f)\n",
    "#yo quiero prob de que se entregue a tiempo, ese es mi \"True\"\n",
    "#arriba de 50 ya es tarde \n",
    "\n",
    "a_tiempo = (montecarlo_1(100000) <= 50).mean()\n",
    "a_tiempo "
   ]
  },
  {
   "cell_type": "code",
   "execution_count": 589,
   "id": "1712073d-624f-4be5-918d-9f1c0f9681a9",
   "metadata": {},
   "outputs": [
    {
     "name": "stdout",
     "output_type": "stream",
     "text": [
      "La probabilidad de realizar la construcción a tiempo es del  85.819 %\n"
     ]
    }
   ],
   "source": [
    "print(\"La probabilidad de realizar la construcción a tiempo es del \",a_tiempo *100,\"%\")"
   ]
  },
  {
   "cell_type": "code",
   "execution_count": 599,
   "id": "c2f616c9-0d34-4fd3-ae48-88bfca192adc",
   "metadata": {},
   "outputs": [
    {
     "data": {
      "text/plain": [
       "0.24487"
      ]
     },
     "execution_count": 599,
     "metadata": {},
     "output_type": "execute_result"
    }
   ],
   "source": [
    "#g) \n",
    "#prob de que proyecto tome entre 20 y 40 días? \n",
    "rango = montecarlo_1(100000)\n",
    "prob_rango = ((rango >= 20) & (rango <= 40)).mean() #pq no sirve con \"and\"???? \n",
    "prob_rango"
   ]
  },
  {
   "cell_type": "code",
   "execution_count": 601,
   "id": "cc4c5197-60c5-4c18-83ca-ca022d82a9a4",
   "metadata": {},
   "outputs": [
    {
     "name": "stdout",
     "output_type": "stream",
     "text": [
      "La probabilidad de que el proyecto tome entre 20 y 40 días es del  24.487000000000002 %\n"
     ]
    }
   ],
   "source": [
    "print(\"La probabilidad de que el proyecto tome entre 20 y 40 días es del \",prob_rango*100,\"%\")"
   ]
  },
  {
   "cell_type": "markdown",
   "id": "e765f358-28eb-4cf1-b81d-7514c7e28d0b",
   "metadata": {},
   "source": [
    "2.- Hay un elevador pequeño en una plaza donde se espera que entren máximo 4 personas a la vez, y su capacidad de peso para poder operar es de 300 kg. En el último censo se encontró que habían 378350 personas en la zona:\n",
    "\n",
    "185392 mujeres\n",
    "162690 hombres\n",
    "30268 personas que o prefirieron no dar la información o se identificaron como no binarias\n",
    "El peso promedio medido en mujeres es de 70 kg con una desviación estándar de 11 kg. En los hombres se midió un peso promedio de 80 kg y una desviación estándar de 16 kg. En el tercer grupo se midió un peso promedio de 73 kg con una desviación estándar de 12 kg.\n",
    "\n",
    "a) Si el elevador se llenara 10,000 veces, ¿cuántas de esas veces se excedería el peso permitido?\n",
    "\n",
    "b) ¿Qué peso total tendría que soportar el elevador si se quiere que el 95% de las veces que se llene no se exceda el peso permitido?"
   ]
  },
  {
   "cell_type": "code",
   "execution_count": 630,
   "id": "15445c6d-1595-42e4-b9f0-66e18a724fc1",
   "metadata": {},
   "outputs": [],
   "source": [
    "def problema2(peso_max):\n",
    "    personas_en_la_zona = 378350\n",
    "    prob_mujer = 185392/personas_en_la_zona \n",
    "    prob_hombre = 162690/personas_en_la_zona \n",
    "    prob_nobin = 30268/personas_en_la_zona\n",
    "    escoge_personas = np.random.choice([\"mujer\", \"hombre\", \"nobin\"], 4, p=[prob_mujer, prob_hombre, prob_nobin])\n",
    "    #me va a escoger 4 y me lo da en arreglo\n",
    "    lista_pesos = [] \n",
    "    for i in range(len(escoge_personas)):\n",
    "        if escoge_personas[i] == \"mujer\": \n",
    "            peso = np.random.normal(loc=70, scale=11, size=None) #Para que me de sólo un número \n",
    "        if escoge_personas[i] == \"hombre\": \n",
    "            peso = np.random.normal(loc=80, scale=16, size=None)\n",
    "        if escoge_personas[i] == \"nobin\": \n",
    "            peso= np.random.normal(loc=73, scale=12, size=None) #acuerdate del np.primero \n",
    "        lista_pesos.append(peso) #lista de pesos de las 4 personas \n",
    "    peso_tot = np.array(lista_pesos).sum()\n",
    "    if peso_tot > peso_max:\n",
    "        return True #True significa que sí se excede el peso \n",
    "    else: \n",
    "        return False "
   ]
  },
  {
   "cell_type": "code",
   "execution_count": 632,
   "id": "87e209ba-730e-4b03-bb9f-5ce99e8df96c",
   "metadata": {},
   "outputs": [],
   "source": [
    "def montecarlo_2(p,s=300):\n",
    "    lista = [ ]  \n",
    "    for i in range(p):\n",
    "        resultado = problema2(s)\n",
    "        lista.append(resultado)\n",
    "    prob_excede_peso = np.array(lista).mean()\n",
    "    return prob_excede_peso\n",
    "    "
   ]
  },
  {
   "cell_type": "code",
   "execution_count": 607,
   "id": "192c8f74-bd2c-47c2-bcfc-4ed51095527b",
   "metadata": {},
   "outputs": [],
   "source": [
    "resultado_prob2 = montecarlo_2(10000) "
   ]
  },
  {
   "cell_type": "code",
   "execution_count": 609,
   "id": "412ab6dc-eec0-403c-bbeb-d7b90d79a67d",
   "metadata": {},
   "outputs": [
    {
     "name": "stdout",
     "output_type": "stream",
     "text": [
      "Si el elevador se llenara 10,000 veces con un peso máx de 300kg, se excedería el peso permitido un  46.25 % de las veces\n"
     ]
    }
   ],
   "source": [
    "print(\"Si el elevador se llenara 10,000 veces con un peso máx de 300kg, se excedería el peso permitido un \", resultado_prob2*100, \"% de las veces\") "
   ]
  },
  {
   "cell_type": "code",
   "execution_count": 639,
   "id": "702dce98-bd54-498a-91b8-e161046d4e26",
   "metadata": {},
   "outputs": [
    {
     "name": "stdout",
     "output_type": "stream",
     "text": [
      "(0.0481, 346)\n"
     ]
    }
   ],
   "source": [
    "def montecarlo_2_que_peso(p): \n",
    "    contador = 0 \n",
    "    prob_excede_peso = 1 \n",
    "    while prob_excede_peso > 0.05: \n",
    "        prob_excede_peso = montecarlo_2(p, 300 + contador)\n",
    "        if prob_excede_peso > 0.05:\n",
    "            contador += 1\n",
    "    return prob_excede_peso, 300 + contador \n",
    "\n",
    "resultado = montecarlo_2_que_peso(10000)\n",
    "print(resultado)"
   ]
  },
  {
   "cell_type": "code",
   "execution_count": 641,
   "id": "caaa7639-9a06-416a-a779-f76e73d52a31",
   "metadata": {},
   "outputs": [
    {
     "name": "stdout",
     "output_type": "stream",
     "text": [
      "Para que el elevador no excediera el peso permitido un 95% de las veces con una capacidad de 4 personas, el peso máximo permitido debería ser de 346 kg aproximadamente\n"
     ]
    }
   ],
   "source": [
    "print(\"Para que el elevador no excediera el peso permitido un 95% de las veces con una capacidad de 4 personas, el peso máximo permitido debería ser de 346 kg aproximadamente\")"
   ]
  },
  {
   "cell_type": "markdown",
   "id": "9a8feec4-babb-4fd7-88c2-4d74c95612c1",
   "metadata": {},
   "source": [
    "3.- Tienes diez dados justos. Si arrojas todos al mismo tiempo, ¿cuál es la probabilidad de que la suma de los dados sea múltiplo de 6?"
   ]
  },
  {
   "cell_type": "code",
   "execution_count": 86,
   "id": "8f5a6834-f446-46dd-91bc-05df68eea0f3",
   "metadata": {},
   "outputs": [],
   "source": [
    "import random\n",
    "import numpy as np \n",
    "#misma prob cada num \n",
    "#casos fav: suma múltiplo de 6 \n",
    "#casos que tomo en cuenta: la suma de los datos cada que se arrojan los dados \n",
    "\n",
    "\n",
    "def problema3(dados=10):\n",
    "    lista = np.random.choice([1,2,3,4,5,6],10)\n",
    "    suma = lista.sum()\n",
    "    if suma%6 == 0:\n",
    "        return True \n",
    "    else: \n",
    "        return False \n",
    "        \n",
    "\n",
    "        "
   ]
  },
  {
   "cell_type": "code",
   "execution_count": 95,
   "id": "ba37058f-e230-40f2-ac5d-375ad9769ba0",
   "metadata": {},
   "outputs": [],
   "source": [
    "def montecarlo_3(n):\n",
    "    lista = [ ] \n",
    "    for i in range(n):\n",
    "        simulacion = problema3() \n",
    "        lista.append(simulacion)\n",
    "    arreglo_lista =  np.array(lista).mean() #las listas no tienen .mean()\n",
    "    return arreglo_lista\n",
    "    \n",
    "    "
   ]
  },
  {
   "cell_type": "code",
   "execution_count": 241,
   "id": "c8da1f48-f44d-4aea-9782-053b7d537084",
   "metadata": {},
   "outputs": [
    {
     "name": "stdout",
     "output_type": "stream",
     "text": [
      "La probabilidad de que la suma de los dados sea múltiplo de 6 es de:  0.16472\n"
     ]
    }
   ],
   "source": [
    "prob_1 = montecarlo_3(100000)\n",
    "print(\"La probabilidad de que la suma de los dados sea múltiplo de 6 es de: \", prob_1)"
   ]
  },
  {
   "cell_type": "markdown",
   "id": "bffb3869-f76d-49be-beb2-0dbb8e300d11",
   "metadata": {},
   "source": [
    "4.- A y B juegan al siguiente juego: un número k del 1 al 6 es elegido, y A y B avientan el dado por turnos hasta que alguien consiga que el dado caiga en k. El ganador recibe $100.\n",
    "\n",
    "a) ¿Cuál es la probabilidad de que el primer jugador gane?\n",
    "\n",
    "b) ¿Cuál es la probabilidad de que el segundo jugador gane?\n",
    "\n",
    "c) ¿Cuánto vale la pena pagar para ir primero?\n",
    "\n"
   ]
  },
  {
   "cell_type": "code",
   "execution_count": 233,
   "id": "648c17c0-db67-4b74-b474-46961ab9285a",
   "metadata": {},
   "outputs": [],
   "source": [
    "def A_yendo_primero(k):\n",
    "    A = 7\n",
    "    B = 7\n",
    "    while A != k and B !=k:\n",
    "        A = random.choice([1,2,3,4,5,6])\n",
    "        B = random.choice([1,2,3,4,5,6])\n",
    "    if A == k: \n",
    "        return \"A\"\n",
    "    if B ==k: \n",
    "        return \"B\" "
   ]
  },
  {
   "cell_type": "code",
   "execution_count": 235,
   "id": "33eb59b9-7ef2-4d47-9aaf-f1ad743c3403",
   "metadata": {},
   "outputs": [],
   "source": [
    "def B_yendo_primero(k):\n",
    "    A = 7\n",
    "    B = 7\n",
    "    while A != k and B !=k:\n",
    "        B = random.choice([1,2,3,4,5,6])\n",
    "        A = random.choice([1,2,3,4,5,6])\n",
    "    if B ==k: \n",
    "        return \"B\" \n",
    "    if A == k: \n",
    "        return \"A\""
   ]
  },
  {
   "cell_type": "code",
   "execution_count": 237,
   "id": "54639c1f-86b9-46e4-be57-ef83ac28896c",
   "metadata": {},
   "outputs": [],
   "source": [
    "def montecarlo_4(n):\n",
    "    k = random.choice([1,2,3,4,5,6])\n",
    "    prob_A = [ ]\n",
    "    for i in range(n): \n",
    "        ganador = A_yendo_primero(k)\n",
    "        prob_A.append(ganador)\n",
    "    media_A_primero = (np.array(prob_A) == \"A\").mean()\n",
    "    media_B_despues = 1-media_A_primero \n",
    "    \n",
    "    prob_B = [ ]\n",
    "    for j in range(n): \n",
    "        ganador2 = B_yendo_primero(k)\n",
    "        prob_B.append(ganador2)\n",
    "    media_B_primero = (np.array(prob_B) == \"B\").mean()\n",
    "    media_A_despues = 1- media_B_primero\n",
    "    #return me puede dar muchas cosas, no sólo una\n",
    "    return k, media_A_primero, media_B_despues, media_B_primero, media_A_despues\n"
   ]
  },
  {
   "cell_type": "code",
   "execution_count": 253,
   "id": "44cd5242-689a-4097-8d6d-b2d274f5ded9",
   "metadata": {},
   "outputs": [
    {
     "name": "stdout",
     "output_type": "stream",
     "text": [
      "La probabilidad de que A gane si va primero es de:  0.54716  y B tendrá una probabilidad de ganar del:  0.45284\n",
      "En cambio si B va primero la probabilidad de que gane es:  0.54551  y A tendrá una probabiliad de ganar del:  0.45448999999999995\n",
      "Por lo tanto se ve que el jugador que vaya primero tiene aproximadamente un  0.09431999999999996  mas de ventaja de ganar\n",
      "Lo máximo que conviene pagar para ir primero es el  0.09431999999999996 % de las gangancias del premio. Es decir,  9.431999999999995   pesos. Si se llegara a pagar más, la pérdida de dinero sería más grande que el beneficio o ventaja\n"
     ]
    }
   ],
   "source": [
    "k, A_primero, B_despues, B_primero, A_despues = montecarlo_4(100000)\n",
    "print(\"La probabilidad de que A gane si va primero es de: \", A_primero,\" y B tendrá una probabilidad de ganar del: \", B_despues)\n",
    "print(\"En cambio si B va primero la probabilidad de que gane es: \",B_primero, \" y A tendrá una probabiliad de ganar del: \",A_despues)\n",
    "print(\"Por lo tanto se ve que el jugador que vaya primero tiene aproximadamente un \", A_primero-B_despues,  \" mas de ventaja de ganar\") \n",
    "print(\"Lo máximo que conviene pagar para ir primero es el \", A_primero-B_despues, \"% de las gangancias del premio. Es decir, \", (A_primero-B_despues)*100, \"  pesos. Si se llegara a pagar más, la pérdida de dinero sería más grande que el beneficio o ventaja\")\n"
   ]
  },
  {
   "cell_type": "code",
   "execution_count": null,
   "id": "f17fab45-b6ac-4035-a660-c1623bfe3d76",
   "metadata": {},
   "outputs": [],
   "source": []
  }
 ],
 "metadata": {
  "kernelspec": {
   "display_name": "Python 3 (ipykernel)",
   "language": "python",
   "name": "python3"
  },
  "language_info": {
   "codemirror_mode": {
    "name": "ipython",
    "version": 3
   },
   "file_extension": ".py",
   "mimetype": "text/x-python",
   "name": "python",
   "nbconvert_exporter": "python",
   "pygments_lexer": "ipython3",
   "version": "3.12.4"
  }
 },
 "nbformat": 4,
 "nbformat_minor": 5
}
