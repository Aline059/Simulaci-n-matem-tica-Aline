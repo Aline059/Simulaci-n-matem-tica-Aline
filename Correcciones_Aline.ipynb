{
 "cells": [
  {
   "cell_type": "markdown",
   "id": "8bc2f283",
   "metadata": {
    "colab_type": "text",
    "id": "GJV4HZf_7eDM"
   },
   "source": [
    "# Examen Módulo 2\n",
    "\n",
    "**Mantenga la calma y lea cuidadosamente las siguientes indicaciones antes de comenzar el examen:**\n",
    "- Para resolver el examen edite este mismo archivo y renómbrelo de la siguiente manera: *Examen2_ApellidoNombre*, donde *ApellidoNombre* corresponde a su apellido paterno con la inicial en mayúscula, seguido de su primer nombre con la inicial en mayúscula **sin acentos**. Por ejemplo, en mi caso el nombre del archivo sería *Examen2_MoralesGabriel*.\n",
    "- Resuelva los puntos en el espacio provisto. Si requiere agregar más celdas para código o escritura, hágalo (`Esc`+`B`) o (`Esc`+`A`).\n",
    "- Recuerde que también se está evaluando su capacidad de interpretar los resultados. Escriba sus interpretaciones/conclusiones en celdas utilizando *Markdown*.\n",
    "- El formato de presentación de todo el examen en general debe ser adecuado. Use tamaños de letra, colores, etiquetas, etcétera.\n",
    "- No se resuelven dudas de ningún tipo por los profesores de la asignatura. Por favor absténgase de preguntar."
   ]
  },
  {
   "cell_type": "markdown",
   "id": "30ec3475",
   "metadata": {},
   "source": [
    "# ANTES DE EMPEZAR"
   ]
  },
  {
   "cell_type": "markdown",
   "id": "c2e65c9c",
   "metadata": {},
   "source": [
    "Escribe tu número de expediente como semilla"
   ]
  },
  {
   "cell_type": "code",
   "execution_count": 1,
   "id": "dddea116-4472-430d-9605-1e24891a29e0",
   "metadata": {},
   "outputs": [
    {
     "name": "stdout",
     "output_type": "stream",
     "text": [
      "Integración Monte Carlo tipo 1 - Problema  2\n",
      "Integración Monte Carlo tipo 2 - Problema  2\n"
     ]
    }
   ],
   "source": [
    "import numpy as np\n",
    "np.random.seed(745986)\n",
    "print(\"Integración Monte Carlo tipo 1 - Problema \", np.random.choice([1, 2]))\n",
    "print(\"Integración Monte Carlo tipo 2 - Problema \", np.random.choice([1, 2]))"
   ]
  },
  {
   "cell_type": "markdown",
   "id": "1d86d5b8-9344-4241-9744-da3bae25c4db",
   "metadata": {},
   "source": [
    "---\n",
    "### Caminata aleatoria"
   ]
  },
  {
   "cell_type": "markdown",
   "id": "5449e0ce-0f65-4722-8e02-663390ac3489",
   "metadata": {},
   "source": [
    "Una persona entra a un casino con 20 pesos.\n",
    "\n",
    "Su apuesta inicial es de 10 pesos, y tiene la idea de modificar su apuesta de la siguiente manera:\n",
    "- Si gana, disminuye su apuesta en 2 pesos\n",
    "- Si pierde, aumenta su apuesta en 2 pesos\n",
    "\n",
    "Este jugador apostará hasta que haya ganado lo suficiente para que su apuesta se vuelva 0 o cuando quede en bancarrota.\n",
    "\n",
    "1. ¿Cuál es el capital esperado?\n",
    "2. En promedio, ¿cuánto apostará en el tercer juego?\n",
    "3. ¿Cuál es la probabilidad de que quede en bancarrota?\n",
    "4. ¿Cuál es la probabilidad de que \"gane\"? (Que su apuesta se vuelva cero)"
   ]
  },
  {
   "cell_type": "code",
   "execution_count": 75,
   "id": "a77935dd-065b-415c-b9c0-95d29107e3cb",
   "metadata": {},
   "outputs": [],
   "source": [
    "#Aquí el \"dado\" sólo es 1 o 0, osea ganar o perder. \n",
    "import numpy as np \n",
    "import random \n",
    "\n",
    "def juego(c0=20, a0=10): #no necesito n pq no sé cuántas rondas van a ser, me lo dirá la función. \n",
    "    camino_capital = [c0] #en el examen me faltó poner el camino, no era solo regresar la respuesta de si quiebra o gana \n",
    "    capital = camino_capital[-1] \n",
    "    jugadas = 0\n",
    "    while True: #Para cuando la apuesta sea 0 o cuando el capital sea 0, no se si ponerle or o and, mejor le pongo return cuando sí se cumpla  \n",
    "        gana = np.random.choice([0,1])\n",
    "        if gana == 1: \n",
    "            capital = camino_capital[-1] +a0\n",
    "            camino_capital.append(capital) \n",
    "            a0 -= 2 \n",
    "            jugadas += 1\n",
    "        if capital <= 0:\n",
    "            resultado = \"quiebra\" \n",
    "            return np.array(camino_capital), resultado, capital, a0, jugadas  \n",
    "        if a0== 0:\n",
    "            resultado = \"gano\" \n",
    "            return np.array(camino_capital), resultado, capital, a0, jugadas \n",
    "        if gana == 0: \n",
    "            capital = camino_capital[-1] -a0\n",
    "            camino_capital.append(capital) \n",
    "            a0 += 2\n",
    "            jugadas += 1 \n",
    "        if capital <= 0:\n",
    "            resultado = \"quiebra\" \n",
    "            return np.array(camino_capital), resultado, capital, a0, jugadas \n",
    "        if a0 == 0:\n",
    "            resultado = \"gano\" \n",
    "            return np.array(camino_capital), resultado, capital, a0, jugadas \n",
    "        \n"
   ]
  },
  {
   "cell_type": "code",
   "execution_count": 118,
   "id": "9852816b-4f84-42f4-8a2d-c1db3dd96715",
   "metadata": {},
   "outputs": [
    {
     "data": {
      "text/plain": [
       "(array([20, 10, -2]), 'quiebra', -2, 14, 2)"
      ]
     },
     "execution_count": 118,
     "metadata": {},
     "output_type": "execute_result"
    }
   ],
   "source": [
    "juego()"
   ]
  },
  {
   "cell_type": "code",
   "execution_count": 109,
   "id": "36eb95e5-37ea-4ebd-8db2-0955bbdb7940",
   "metadata": {},
   "outputs": [],
   "source": [
    "def capital_esperado(n):\n",
    "    lista = [] \n",
    "    for i in range(n): \n",
    "        _, resultado, capital,_, _ = juego()\n",
    "        if resultado == \"gano\":\n",
    "            lista.append(capital)\n",
    "    respuesta = (np.array(lista)).mean()\n",
    "    return respuesta \n",
    "    "
   ]
  },
  {
   "cell_type": "code",
   "execution_count": 113,
   "id": "bfde42b5-6d2d-462a-8d5b-ac957ffa7ae8",
   "metadata": {},
   "outputs": [
    {
     "data": {
      "text/plain": [
       "65.61968446953249"
      ]
     },
     "execution_count": 113,
     "metadata": {},
     "output_type": "execute_result"
    }
   ],
   "source": [
    "capital_esperado(100000)"
   ]
  },
  {
   "cell_type": "markdown",
   "id": "d1a4872c-800b-424c-80ec-86b6b27d480a",
   "metadata": {},
   "source": [
    "Ese sería el resultado de lo que yo interpreto como \"capital final esperado\", es decir, en los casos donde hubo capital final cuál fue el promedio. Pero si se quisiera el capital final incluyendo TODOS los casos, entonces: "
   ]
  },
  {
   "cell_type": "code",
   "execution_count": 120,
   "id": "b5a39e70-a4a7-40ad-93d0-540df5c6940c",
   "metadata": {},
   "outputs": [],
   "source": [
    "def capital_esperado_todo(n):\n",
    "    lista = [] \n",
    "    for i in range(n): \n",
    "        _, _, capital,_, _ = juego()\n",
    "        lista.append(capital)\n",
    "    respuesta = (np.array(lista)).mean()\n",
    "    return respuesta \n",
    "    "
   ]
  },
  {
   "cell_type": "code",
   "execution_count": 122,
   "id": "c3fa7a21-2851-4e0e-9755-63c2fac02e9a",
   "metadata": {},
   "outputs": [
    {
     "data": {
      "text/plain": [
       "19.78964"
      ]
     },
     "execution_count": 122,
     "metadata": {},
     "output_type": "execute_result"
    }
   ],
   "source": [
    "capital_esperado_todo(100000)"
   ]
  },
  {
   "cell_type": "code",
   "execution_count": 141,
   "id": "c8d9e545-6934-43e6-876c-b675a8e4b1fd",
   "metadata": {},
   "outputs": [],
   "source": [
    "def tercer_juego(c0=20, a0=10): \n",
    "    camino_capital = [c0] \n",
    "    capital = camino_capital[-1] \n",
    "    jugadas = 0\n",
    "    while True: \n",
    "        gana = np.random.choice([0,1])\n",
    "        if gana == 1: \n",
    "            capital = camino_capital[-1] +a0\n",
    "            camino_capital.append(capital) \n",
    "            a0 -= 2 \n",
    "            jugadas += 1\n",
    "        if jugadas == 3: \n",
    "            return a0\n",
    "        if gana == 0: \n",
    "            capital = camino_capital[-1] -a0\n",
    "            camino_capital.append(capital) \n",
    "            a0 += 2\n",
    "            jugadas += 1 \n",
    "        if jugadas == 3:\n",
    "            return a0\n",
    "       \n"
   ]
  },
  {
   "cell_type": "code",
   "execution_count": 149,
   "id": "81bbd44e-ca71-4257-85c8-769de88b8e34",
   "metadata": {},
   "outputs": [],
   "source": [
    "def sim_tercer_juego(n):\n",
    "    lista = [] \n",
    "    for i in range(n): \n",
    "        respuesta = tercer_juego()\n",
    "        lista.append(respuesta)\n",
    "    return (np.array(lista)).mean()\n",
    "    "
   ]
  },
  {
   "cell_type": "code",
   "execution_count": 155,
   "id": "99b8b3cc-231e-4e83-b925-3788e002b48a",
   "metadata": {},
   "outputs": [
    {
     "data": {
      "text/plain": [
       "9.9806"
      ]
     },
     "execution_count": 155,
     "metadata": {},
     "output_type": "execute_result"
    }
   ],
   "source": [
    "sim_tercer_juego(100000)"
   ]
  },
  {
   "cell_type": "markdown",
   "id": "dc1d65b4-fbd8-4b8b-a010-c9a5b22ae1d6",
   "metadata": {},
   "source": [
    "La apuesta promedio en el tercer juego sería de 9.98 "
   ]
  },
  {
   "cell_type": "code",
   "execution_count": 126,
   "id": "b6f247fc-d3c5-42d4-a91c-f2d737b68b2f",
   "metadata": {},
   "outputs": [],
   "source": [
    "#La prob de que quede en bancarrota sería: \n",
    "\n",
    "def probs(n):\n",
    "    lista = []\n",
    "    for i in range(n):\n",
    "        _,resultado,_,_,_ = juego()\n",
    "        lista.append(resultado)\n",
    "    prob_quiebra = (np.array(lista)==\"quiebra\").mean()\n",
    "    prob_gana = (np.array(lista)==\"gano\").mean()\n",
    "    return prob_quiebra, prob_gana"
   ]
  },
  {
   "cell_type": "code",
   "execution_count": 138,
   "id": "e304fd61-cab5-4a4c-8e78-73004633d73d",
   "metadata": {},
   "outputs": [
    {
     "data": {
      "text/plain": [
       "(0.655141, 0.344859)"
      ]
     },
     "execution_count": 138,
     "metadata": {},
     "output_type": "execute_result"
    }
   ],
   "source": [
    "probs(1000000)"
   ]
  },
  {
   "cell_type": "markdown",
   "id": "630a30e7-1d94-43e9-b3af-078e5ddbf9b2",
   "metadata": {},
   "source": [
    "La probabilidad de que quede en bancarrota sería del 65% aproximadamente y la probabilidad de que gane (apuesta se convierta en 0) sería del 34% aproximadamente. "
   ]
  },
  {
   "cell_type": "markdown",
   "id": "97a6a36f-7368-4ec3-97ce-69276f726606",
   "metadata": {},
   "source": [
    "---\n",
    "### Simulación Monte Carlo\n",
    "\n",
    "Jugadores A y B están jugando a tirar una moneda sesgada (60\\% de probabilidad de caer en águila) por turnos. El jugador A empieza el juego y luego va el jugador B. Se lanza la moneda por turnos hasta que alguien tira águila y gana. ¿Cuál es la probabilidad de que el jugador A gane?"
   ]
  },
  {
   "cell_type": "code",
   "execution_count": 36,
   "id": "81fde7a5-6d3c-4115-bc7c-9bb989e0d0d7",
   "metadata": {},
   "outputs": [],
   "source": [
    "#el orden importa \n",
    "\n",
    "def una_tirada():\n",
    "    A = \"sello\"\n",
    "    B = \"sello\" \n",
    "    while (A != \"aguila\") and (B != \"aguila\"): #& ? \n",
    "        A = np.random.choice([\"aguila\",\"sello\"], p = [0.6, 0.4])\n",
    "        if A == \"aguila\":\n",
    "            return \"A\" \n",
    "        else: \n",
    "            B = np.random.choice([\"aguila\",\"sello\"], p = [0.6, 0.4]) \n",
    "            if B == \"aguila\":\n",
    "                return \"B\" "
   ]
  },
  {
   "cell_type": "code",
   "execution_count": 48,
   "id": "144db264-7b22-41d1-87af-c5efd145aa92",
   "metadata": {},
   "outputs": [
    {
     "data": {
      "text/plain": [
       "'A'"
      ]
     },
     "execution_count": 48,
     "metadata": {},
     "output_type": "execute_result"
    }
   ],
   "source": [
    "una_tirada() "
   ]
  },
  {
   "cell_type": "code",
   "execution_count": 50,
   "id": "72b1a1c4-a87d-4ad1-968f-0bde06e4d278",
   "metadata": {},
   "outputs": [],
   "source": [
    "def simulaciones(n):\n",
    "    lista = [] \n",
    "    for i in range(n):\n",
    "        resultado = una_tirada()\n",
    "        lista.append(resultado)\n",
    "    prob = (np.array(lista) == \"A\").mean()\n",
    "    return prob \n",
    "    \n",
    "    "
   ]
  },
  {
   "cell_type": "code",
   "execution_count": 52,
   "id": "a5f728ac-e610-405f-9eb0-a3e2fc3819f7",
   "metadata": {},
   "outputs": [
    {
     "data": {
      "text/plain": [
       "0.7135"
      ]
     },
     "execution_count": 52,
     "metadata": {},
     "output_type": "execute_result"
    }
   ],
   "source": [
    "simulaciones(100000)"
   ]
  },
  {
   "cell_type": "markdown",
   "id": "d06eddf0-b483-43a6-b356-559fe9486197",
   "metadata": {},
   "source": [
    "---\n",
    "### Integración Monte Carlo tipo 1 - Problema 1\n",
    "$$ f_1(x) = 5\\frac{\\sin{x}}{x} $$\n",
    "$$ f_2(x) = \\frac{1}{8} $$"
   ]
  },
  {
   "cell_type": "markdown",
   "id": "9c3b8c39-83a7-493f-a79b-0b18e80c5590",
   "metadata": {},
   "source": [
    "Dadas $f_1$ y $f_2$, ¿cuál es el área que hay entre las dos curvas en un intervalo de $[0.1, 7]$? (Aproxima los cruces)"
   ]
  },
  {
   "cell_type": "code",
   "execution_count": 159,
   "id": "31310462-d5a7-43c0-a555-210d95f23ad4",
   "metadata": {},
   "outputs": [
    {
     "data": {
      "text/plain": [
       "11.06763351781697"
      ]
     },
     "execution_count": 159,
     "metadata": {},
     "output_type": "execute_result"
    }
   ],
   "source": [
    "def funcion1(x):\n",
    "    return 5*((np.sin(x))/(x))\n",
    "def funcion2(x):\n",
    "    return 1/8 \n",
    "#quiero el total del area azul en la imagen \n",
    "#tendré que hacer 3 integraciones \n",
    "\n",
    "def int_tipo1(f, a, b, n):\n",
    "    u = np.random.uniform(a,b,n)\n",
    "    return np.mean(f(u)*(b-a))\n",
    "\n",
    "#Para la primer región es el área de f1 - área de f2 \n",
    "region_1 = int_tipo1(funcion1, 0.1, 3.1, 100000) - int_tipo1(funcion2, 0.1, 3.1, 100000)\n",
    "\n",
    "#Para segunda región es el área de f2 - área de f1\n",
    "region_2 = int_tipo1(funcion2, 3.1, 6.5, 100000) - int_tipo1(funcion1, 3.1, 6.5, 100000)\n",
    "\n",
    "#Para tercer región es área de f1 - área de f2 \n",
    "region_3 = int_tipo1(funcion1, 6.5, 7, 100000) - int_tipo1(funcion2, 6.5, 7, 100000)\n",
    "\n",
    "#Al final se suma todo \n",
    "region_1 + region_2 + region_3"
   ]
  },
  {
   "cell_type": "code",
   "execution_count": 161,
   "id": "c8b537cf-847b-495e-bc05-2b17c3d8f0bf",
   "metadata": {},
   "outputs": [
    {
     "name": "stdout",
     "output_type": "stream",
     "text": [
      "Aproximadamente el área que hay entre las 2 curvas en el intervalo [0.1,7] es de  11.06763351781697\n"
     ]
    }
   ],
   "source": [
    "print(\"Aproximadamente el área que hay entre las 2 curvas en el intervalo [0.1,7] es de \", region_1 + region_2 + region_3)"
   ]
  },
  {
   "cell_type": "markdown",
   "id": "b2df3899-2f8f-4cdf-9b53-3809bb77e6f9",
   "metadata": {},
   "source": [
    "### Integración Monte Carlo tipo 1 - Problema 2\n",
    "$$ f_1(x) = \\sin{(x)} e^{-x} $$\n",
    "$$ f_2(x) = \\frac{x}{10} $$"
   ]
  },
  {
   "cell_type": "markdown",
   "id": "647393fd-cb7f-4cd3-bf8a-c41d2afc6005",
   "metadata": {},
   "source": [
    "Dadas $f_1$ y $f_2$, ¿cuál es el área que hay entre las dos curvas en un intervalo de $[0, 4]$? (Aproxima los cruces)"
   ]
  },
  {
   "cell_type": "code",
   "execution_count": 60,
   "id": "4577cc34-64e1-48b6-bf65-95537ae370b0",
   "metadata": {},
   "outputs": [],
   "source": [
    "\n",
    "def f1(x):\n",
    "    return np.sin(x)*np.exp(-x) \n",
    "def f2(x):\n",
    "    return x/10\n",
    "#quiero el total del area azul en la imagen \n",
    "\n",
    "def montecarlo_tipo1(f, a, b, n):\n",
    "    u = np.random.uniform(a,b,n)\n",
    "    return np.mean(f(u)*(b-a))\n"
   ]
  },
  {
   "cell_type": "code",
   "execution_count": 68,
   "id": "781956bf-67c8-4afb-b284-e145233463f3",
   "metadata": {},
   "outputs": [
    {
     "data": {
      "text/plain": [
       "0.42987568809859295"
      ]
     },
     "execution_count": 68,
     "metadata": {},
     "output_type": "execute_result"
    }
   ],
   "source": [
    "montecarlo_tipo1(f1,0,1.75,100000) "
   ]
  },
  {
   "cell_type": "code",
   "execution_count": 70,
   "id": "6bc00db8-63ec-4f32-95ec-5f697e32b0b9",
   "metadata": {},
   "outputs": [
    {
     "data": {
      "text/plain": [
       "0.15313328955383823"
      ]
     },
     "execution_count": 70,
     "metadata": {},
     "output_type": "execute_result"
    }
   ],
   "source": [
    "montecarlo_tipo1(f2,0,1.75,100000) "
   ]
  },
  {
   "cell_type": "code",
   "execution_count": 74,
   "id": "0e3850d4-5e4a-4620-a495-b65b9aabf18f",
   "metadata": {},
   "outputs": [
    {
     "data": {
      "text/plain": [
       "0.2768011577816703"
      ]
     },
     "execution_count": 74,
     "metadata": {},
     "output_type": "execute_result"
    }
   ],
   "source": [
    "#funcion 1 menos funcion 2 \n",
    "primera_parte_azul = montecarlo_tipo1(f1,0,1.75,100000)  - montecarlo_tipo1(f2,0,1.75,100000) \n",
    "primera_parte_azul"
   ]
  },
  {
   "cell_type": "code",
   "execution_count": 76,
   "id": "1f5ca919-f7aa-4492-9f0c-d32df6e76b79",
   "metadata": {},
   "outputs": [
    {
     "data": {
      "text/plain": [
       "0.08343411109060545"
      ]
     },
     "execution_count": 76,
     "metadata": {},
     "output_type": "execute_result"
    }
   ],
   "source": [
    "montecarlo_tipo1(f1,1.75,4,100000) "
   ]
  },
  {
   "cell_type": "code",
   "execution_count": 78,
   "id": "fbc13f5b-d14c-4a85-b630-e9c45cac7c2c",
   "metadata": {},
   "outputs": [
    {
     "data": {
      "text/plain": [
       "0.6469177142710505"
      ]
     },
     "execution_count": 78,
     "metadata": {},
     "output_type": "execute_result"
    }
   ],
   "source": [
    "montecarlo_tipo1(f2,1.75,4,100000) "
   ]
  },
  {
   "cell_type": "code",
   "execution_count": 80,
   "id": "8e86b439-fb05-40dc-87cd-f10cf7675cd6",
   "metadata": {},
   "outputs": [
    {
     "data": {
      "text/plain": [
       "0.5636319192725863"
      ]
     },
     "execution_count": 80,
     "metadata": {},
     "output_type": "execute_result"
    }
   ],
   "source": [
    "#ahora funcion 2 menos funcion 1 \n",
    "segunda_parte_azul = montecarlo_tipo1(f2,1.75,4,100000)  - montecarlo_tipo1(f1,1.75,4,100000)  \n",
    "segunda_parte_azul"
   ]
  },
  {
   "cell_type": "code",
   "execution_count": 82,
   "id": "91c227d4-8026-4d12-8142-42468598ea6a",
   "metadata": {},
   "outputs": [
    {
     "data": {
      "text/plain": [
       "0.8404330770542565"
      ]
     },
     "execution_count": 82,
     "metadata": {},
     "output_type": "execute_result"
    }
   ],
   "source": [
    "#AREA TOTAL DE LA FIGURA EN AZUL \n",
    "primera_parte_azul + segunda_parte_azul "
   ]
  },
  {
   "cell_type": "markdown",
   "id": "4d371037-d49d-47f6-97e7-07e683a00976",
   "metadata": {},
   "source": [
    "---\n",
    "### Integración Monte Carlo tipo 2 - Problema 1"
   ]
  },
  {
   "cell_type": "markdown",
   "id": "90efeabd-ef4a-4ccb-bf58-6bbb40892c4e",
   "metadata": {},
   "source": [
    "Se tienen las siguientes desigualdades:"
   ]
  },
  {
   "cell_type": "markdown",
   "id": "d65ac302-8958-48d1-b689-3d8155e4f82a",
   "metadata": {},
   "source": [
    "1.\n",
    "$$ ((\\frac{x}{4})^2 + (\\frac{y-1}{2.5})^2 < 1)\\ \\& \\ ((x+1.5)^2 + (y-1)^2 > 0.2) \\ \\& \\ ((x-1.5)^2 + (y-1)^2 > 0.2) $$\n"
   ]
  },
  {
   "cell_type": "markdown",
   "id": "497f8431-709f-4341-95e7-8fc80ef09a4b",
   "metadata": {},
   "source": [
    "2. $$ (x+3)^2 + (y-4)^2 < 2 $$\n"
   ]
  },
  {
   "cell_type": "markdown",
   "id": "6d8d6211-03a7-4e3a-b8c1-ece030a5b375",
   "metadata": {},
   "source": [
    "3. $$ (x-3)^2 + (y-4)^2 < 2 $$"
   ]
  },
  {
   "cell_type": "markdown",
   "id": "eb3b916a-ab74-49a2-9bcf-9e3df2029b73",
   "metadata": {},
   "source": [
    "4. $$ x^2 + (\\frac{y+5}{2})^2 < 8 $$"
   ]
  },
  {
   "cell_type": "markdown",
   "id": "0cf6abfa-b213-48b5-a99a-c31780360643",
   "metadata": {},
   "source": [
    "1. Crea una función de Python para cada desigualdad."
   ]
  },
  {
   "cell_type": "code",
   "execution_count": 163,
   "id": "67e50d2c-5f01-467d-bf4e-b9a2c66b2e62",
   "metadata": {},
   "outputs": [],
   "source": [
    "def desigualdad1(x,y): #acuerdate del () entre los &, es super importante \n",
    "    return ((x/4)**4 + ((y-1)/(2.5))**2 <1)&( (x+1.5)**2 + (y-1)**2 > 0.2 )&( (x-1.5)**2 + (y-1)**2 > 0.2)\n",
    "\n",
    "def desigualdad2(x,y):\n",
    "    return (x+3)**2 + (y-4)**4 < 2\n",
    "\n",
    "def desigualdad3(x,y):\n",
    "    return (x-3)**2 + (y-4)**2 <2 \n",
    "\n",
    "def desigualdad4(x,y):\n",
    "    return x**2 + ((y+5)/(2))**2 <8 "
   ]
  },
  {
   "cell_type": "markdown",
   "id": "97a48f69-11e0-4057-bab4-11931913a3be",
   "metadata": {},
   "source": [
    "2. Crea una función que agrupe estas desigualdades (utiliza el operador `|` para unir las desigualdades)"
   ]
  },
  {
   "cell_type": "code",
   "execution_count": 191,
   "id": "efbcc005-c828-475d-8295-9ca03ae601f5",
   "metadata": {},
   "outputs": [],
   "source": [
    "def funcion_agrupadora(x,y):\n",
    "    return (((x/4)**4 + ((y-1)/(2.5))**2 < 1) & \n",
    "            ((x+1.5)**2 + (y-1)**2 > 0.2) & \n",
    "            ((x-1.5)**2 + (y-1)**2 > 0.2)) | \\\n",
    "           (((x+3)**2 + (y-4)**4 < 2) | \n",
    "            ((x-3)**2 + (y-4)**2 < 2) | \n",
    "            (x**2 + ((y+5)/(2))**2 < 8))\n",
    "\n",
    "# este \\ es como el \\n que se ponía para saltar de línea, pero en este caso lo pong para no tener que escribir todo junto en una misma línea "
   ]
  },
  {
   "cell_type": "markdown",
   "id": "b57a12c0-30c4-4110-a4a3-232319008ba6",
   "metadata": {},
   "source": [
    "3. Encuentra los límites de integración"
   ]
  },
  {
   "cell_type": "code",
   "execution_count": 201,
   "id": "a1b8ecda-477b-44d9-9c2c-6952cc8691ed",
   "metadata": {},
   "outputs": [
    {
     "data": {
      "text/plain": [
       "<matplotlib.collections.PathCollection at 0x13467ba40>"
      ]
     },
     "execution_count": 201,
     "metadata": {},
     "output_type": "execute_result"
    },
    {
     "data": {
      "image/png": "[encoded data removed]",
      "text/plain": [
       "<Figure size 640x480 with 1 Axes>"
      ]
     },
     "metadata": {},
     "output_type": "display_data"
    }
   ],
   "source": [
    "#limites al tanteo \n",
    "ax2 = -5\n",
    "bx2 = 5\n",
    "ay2 = -12\n",
    "by2 = 7 \n",
    "\n",
    "n2 = 100000\n",
    "x = np.random.uniform(ax, bx, n2)\n",
    "y = np.random.uniform(ay, by, n2)\n",
    "import matplotlib.pyplot as plt \n",
    "plt.figure()\n",
    "plt.scatter(x,y, c=funcion_agrupadora(x,y))"
   ]
  },
  {
   "cell_type": "markdown",
   "id": "d9e844a1-4034-416d-8a48-5c315794eece",
   "metadata": {},
   "source": [
    "4. Aproxima el área de la región descrita por la agrupación de las desigualdades con 1 millón de puntos."
   ]
  },
  {
   "cell_type": "code",
   "execution_count": 199,
   "id": "96c4702a-1b7c-4126-981a-41b74bd8f5c3",
   "metadata": {},
   "outputs": [],
   "source": [
    "def tipo2(region, ax, bx, ay, by, n):\n",
    "    x = np.random.uniform(ax,bx,n)\n",
    "    y = np.random.uniform(ay,by,n)\n",
    "    AR = (bx-ax) * (by-ay)\n",
    "    return np.mean(region(x,y)) * AR \n",
    "\n",
    "    "
   ]
  },
  {
   "cell_type": "code",
   "execution_count": 215,
   "id": "ed5582dd-99a1-4629-92fe-7b881e6710b8",
   "metadata": {},
   "outputs": [
    {
     "data": {
      "text/plain": [
       "88.34316"
      ]
     },
     "execution_count": 215,
     "metadata": {},
     "output_type": "execute_result"
    }
   ],
   "source": [
    "AD = tipo2(funcion_agrupadora, ax2, bx2, ay2, by2, 1000000)\n",
    "AD "
   ]
  },
  {
   "cell_type": "markdown",
   "id": "4285c504-8eec-46a3-a73b-37a9ce9fd2b5",
   "metadata": {},
   "source": [
    "5. ¿Cuál es el error relativo?"
   ]
  },
  {
   "cell_type": "code",
   "execution_count": 217,
   "id": "3a4bbd6d-b3d5-432d-b345-828121d98dd6",
   "metadata": {},
   "outputs": [
    {
     "data": {
      "text/plain": [
       "-2.9695181620988937"
      ]
     },
     "execution_count": 217,
     "metadata": {},
     "output_type": "execute_result"
    }
   ],
   "source": [
    "AR2 = (bx2-ax2)*(by2-ay2)\n",
    "Crel = np.sqrt((1-AD/AR2)/(AD/AR2))\n",
    "Erel = np.log10(Crel) - np.log10(1000000)/2\n",
    "Erel "
   ]
  },
  {
   "cell_type": "code",
   "execution_count": 219,
   "id": "42f7637d-9b4b-4a75-8262-8bad516ef801",
   "metadata": {},
   "outputs": [
    {
     "name": "stdout",
     "output_type": "stream",
     "text": [
      "El error relativo aproximado es de:  -2.9695181620988937\n"
     ]
    }
   ],
   "source": [
    "print(\"El error relativo aproximado es de: \", Erel)"
   ]
  },
  {
   "cell_type": "markdown",
   "id": "450b21f4-e7f7-450c-befb-a6d7343f1cfd",
   "metadata": {},
   "source": [
    "### Integración Monte Carlo tipo 2 - Problema 2"
   ]
  },
  {
   "cell_type": "markdown",
   "id": "f9d945d8-e2af-4336-9d5b-08bfb79b2665",
   "metadata": {},
   "source": [
    "Se quiere calcular el volumen de una alberca donde su superficie está dada por la siguiente desigualdad:\n",
    "$$ (x^2 + (\\frac{y}{2})^2 \\leq 1)\\ | \\ ((x-1)^2 + (y+2)^2 \\leq 2) $$"
   ]
  },
  {
   "cell_type": "markdown",
   "id": "cd5a1386-ea72-4e68-9ceb-b64b86516c4c",
   "metadata": {},
   "source": [
    "1. Define una función en Python para la desigualdad y utilízala para encontrar límites de integración adecuados para esta superficie."
   ]
  },
  {
   "cell_type": "code",
   "execution_count": 86,
   "id": "010d6c11-70cf-41f3-bf19-aed12b9d9946",
   "metadata": {},
   "outputs": [],
   "source": [
    "def func1(x,y):\n",
    "    return (x**2 + (y/2)**2 <= 1) | ((x-1)**2 + (y+2)**2 <= 2 ) \n",
    "    "
   ]
  },
  {
   "cell_type": "code",
   "execution_count": 94,
   "id": "c8b80b7c-4701-4800-92bd-502763a61bfa",
   "metadata": {},
   "outputs": [
    {
     "data": {
      "text/plain": [
       "<matplotlib.collections.PathCollection at 0x1990b61a3f0>"
      ]
     },
     "execution_count": 94,
     "metadata": {},
     "output_type": "execute_result"
    },
    {
     "data": {
      "image/png": "[encoded data removed]",
      "text/plain": [
       "<Figure size 640x480 with 1 Axes>"
      ]
     },
     "metadata": {},
     "output_type": "display_data"
    }
   ],
   "source": [
    "#limites al tanteo \n",
    "ax = -1.5\n",
    "bx = 3\n",
    "ay = -4\n",
    "by = 2.2\n",
    "\n",
    "n = 100000\n",
    "x = np.random.uniform(ax, bx, n)\n",
    "y = np.random.uniform(ay, by, n)\n",
    "import matplotlib.pyplot as plt \n",
    "plt.figure()\n",
    "plt.scatter(x,y, c=func1(x,y))"
   ]
  },
  {
   "cell_type": "markdown",
   "id": "18a9d985-2cfd-4698-99ed-4109292e35f0",
   "metadata": {},
   "source": [
    "La profundidad de la alberca debe ser de $1.35$ metros. En otras palabras\n",
    "\n",
    "$$ (z \\leq 0)\\ \\& \\ (z \\geq -1.35)$$\n",
    "\n",
    "2. Define una función para esta desigualdad de profundidad."
   ]
  },
  {
   "cell_type": "code",
   "execution_count": 122,
   "id": "0c1187ad-c570-4c30-817f-0fb4be8676bd",
   "metadata": {},
   "outputs": [],
   "source": [
    "def profundidad(z):\n",
    "    return (z <= 0) & (z >= -1.35)\n",
    "#quiero que me de tmbn true or false"
   ]
  },
  {
   "cell_type": "code",
   "execution_count": 124,
   "id": "579aa766-2520-4a76-a120-1b41ffaedcdb",
   "metadata": {},
   "outputs": [
    {
     "data": {
      "text/plain": [
       "False"
      ]
     },
     "execution_count": 124,
     "metadata": {},
     "output_type": "execute_result"
    }
   ],
   "source": [
    "profundidad(-3)"
   ]
  },
  {
   "cell_type": "markdown",
   "id": "055a1b61-e64a-41e6-97f7-0f5ff23374db",
   "metadata": {},
   "source": [
    "3. Define una función que agrupe estas desigualdades (utiliza el operador `&` para unir las desigualdades)"
   ]
  },
  {
   "cell_type": "code",
   "execution_count": 202,
   "id": "6814eebe-9788-462c-b063-7187329d1ba4",
   "metadata": {},
   "outputs": [],
   "source": [
    "def agrupar(x,y,z):\n",
    "    return func1(x, y) & profundidad(z)\n"
   ]
  },
  {
   "cell_type": "code",
   "execution_count": 211,
   "id": "043f5d86-8d7b-4487-be82-9cb1dbd0ae11",
   "metadata": {},
   "outputs": [],
   "source": [
    "az = -1.35\n",
    "bz = 0"
   ]
  },
  {
   "cell_type": "markdown",
   "id": "cb00bd98-64a5-43db-9345-cb48c43e3d6d",
   "metadata": {},
   "source": [
    "4. Aproxima el volumen."
   ]
  },
  {
   "cell_type": "code",
   "execution_count": 214,
   "id": "a9142853-2ec9-49ce-9997-246669f22832",
   "metadata": {},
   "outputs": [],
   "source": [
    "def montecarlo_tipo2(region, ax, bx, ay, by, az, bz, n):\n",
    "    x = np.random.uniform(ax, bx, n)\n",
    "    y = np.random.uniform(ay, by, n)\n",
    "    z = np.random.uniform(az, bz, n)\n",
    "    AR = (bx-ax)*(by-ay)*(bz-az) #la z con la resta se vuelve distancia positiva \n",
    "    return np.mean(region(x,y,z))*AR \n",
    "\n",
    "    "
   ]
  },
  {
   "cell_type": "code",
   "execution_count": 216,
   "id": "6880815d-36a3-4ca3-a97e-bdd11577dda6",
   "metadata": {},
   "outputs": [
    {
     "data": {
      "text/plain": [
       "15.512330250000002"
      ]
     },
     "execution_count": 216,
     "metadata": {},
     "output_type": "execute_result"
    }
   ],
   "source": [
    "montecarlo_tipo2(agrupar, ax, bx, ay, by, az, bz, 100000)"
   ]
  }
 ],
 "metadata": {
  "kernelspec": {
   "display_name": "Python 3 (ipykernel)",
   "language": "python",
   "name": "python3"
  },
  "language_info": {
   "codemirror_mode": {
    "name": "ipython",
    "version": 3
   },
   "file_extension": ".py",
   "mimetype": "text/x-python",
   "name": "python",
   "nbconvert_exporter": "python",
   "pygments_lexer": "ipython3",
   "version": "3.12.4"
  }
 },
 "nbformat": 4,
 "nbformat_minor": 5
}
