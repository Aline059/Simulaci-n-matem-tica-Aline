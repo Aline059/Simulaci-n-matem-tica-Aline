{
 "cells": [
  {
   "cell_type": "markdown",
   "id": "9f64fe3b-e071-4f65-a3e9-ccdbd22bb406",
   "metadata": {},
   "source": [
    "# A10 - Distribuciones de probabilidad "
   ]
  },
  {
   "cell_type": "markdown",
   "id": "fb6cb659-e569-4b9d-81dc-bec436055e6a",
   "metadata": {},
   "source": [
    "**Aline Rockenzahn**  \n",
    "**Jueves 17 octubre 2024** "
   ]
  },
  {
   "cell_type": "markdown",
   "id": "e9c56d9a-f567-4f1d-a7d0-8fc342ef4043",
   "metadata": {},
   "source": [
    "1.- Menciona tres ejemplos de variables aleatorias discretas: "
   ]
  },
  {
   "cell_type": "markdown",
   "id": "494995fa-1b23-4f66-86dc-a1d11eb0a1a5",
   "metadata": {},
   "source": [
    "- El resultado de lanzar un dado \n",
    "- El resultado de lanzar una moneda \n",
    "- Cuántos estudiantes de simulación matemática entregaron la tarea del jueves pasado "
   ]
  },
  {
   "cell_type": "markdown",
   "id": "b36f9883-401c-4669-b676-abdc68ac0246",
   "metadata": {},
   "source": [
    "2.- Menciona tres ejemplos de variables aleatorias continuas:"
   ]
  },
  {
   "cell_type": "markdown",
   "id": "918e03db-2af0-458a-8447-cc281afe2035",
   "metadata": {},
   "source": [
    "- el precio de un dólar (USD) contra el peso mexicano (MXN)\n",
    "- la altura de una persona\n",
    "- la distancia que vuela un pájaro"
   ]
  },
  {
   "cell_type": "markdown",
   "id": "4698ef28-2926-4691-b4d7-d0d5dde31545",
   "metadata": {},
   "source": [
    "3.- Dos equipos juegan una serie de juegos (4 de 7, el que gane 4 juegos gana). Cada equipo tiene un 50% de probabilidad de ganar cada juego (no empates). ¿Cuál es la probabilidad de que la serie se vaya a 7 juegos? (5/16)"
   ]
  },
  {
   "cell_type": "markdown",
   "id": "eb835eec-8994-41e4-baf9-04d743b74223",
   "metadata": {},
   "source": [
    "Se hace con distribución de Binomial   \n",
    "La única forma de que se vayan a 7 juegos es que cada equipo gane 3 partidas.   \n",
    "En otras palabras es la probabilidad de que eso suceda.   \n",
    "Son entonces 6 juegos en total, y en cada uno hay 1/2 de prob de ganar   \n",
    "Matemáticamente se expresa como: (1/2)^6 = 1/64 Significa que cada posible resultado esa probabilidad de ocurrir.  \n",
    "Esto sale de 1/2 * 1/2 * 1/2* 1/2* 1/2* 1/2 = (1/2)^6  \n",
    "Lo que sigue saber es cuántas de todas las posibles opciones me pueden dar la combinación de 3 victorias para cada equipo en 6 partidas.   \n",
    "\n",
    "$${6\\choose 3}$$ \n",
    "Quiere decir de cuántas formas posibles se pueden asignar 3 victorias a un equipo en 6 juegos.   \n",
    "n = 6 \n",
    "k = 3 \n",
    "${n\\choose k}=\\frac{n!}{k!(n-k)!}$   \n",
    "${6\\choose 3}=\\frac{6!}{3!(6-3)!}$   \n",
    "\n"
   ]
  },
  {
   "cell_type": "code",
   "execution_count": 41,
   "id": "28df545a-77f7-434a-9453-b56869acf0fa",
   "metadata": {},
   "outputs": [
    {
     "data": {
      "text/plain": [
       "20.0"
      ]
     },
     "execution_count": 41,
     "metadata": {},
     "output_type": "execute_result"
    }
   ],
   "source": [
    "import math \n",
    "casos = math.factorial(6) / (math.factorial(3) * math.factorial(3))\n",
    "casos"
   ]
  },
  {
   "cell_type": "code",
   "execution_count": 43,
   "id": "9feb8d60-58e1-4689-9e91-4925695c8192",
   "metadata": {},
   "outputs": [
    {
     "data": {
      "text/plain": [
       "0.3125"
      ]
     },
     "execution_count": 43,
     "metadata": {},
     "output_type": "execute_result"
    }
   ],
   "source": [
    "prob7juegos = casos * (1/64)\n",
    "prob7juegos"
   ]
  },
  {
   "cell_type": "code",
   "execution_count": 124,
   "id": "ec4852f1-7163-4896-aa37-b88dffee7621",
   "metadata": {},
   "outputs": [
    {
     "data": {
      "text/plain": [
       "4"
      ]
     },
     "execution_count": 124,
     "metadata": {},
     "output_type": "execute_result"
    }
   ],
   "source": [
    "import random \n",
    "def juego(juegos_tot = 0):\n",
    "    vic_1 = 0 \n",
    "    vic_2 = 0 \n",
    "    while vic_1 < 4 and vic_2 <4:\n",
    "        victoria = random.choice([1,-1])\n",
    "        if victoria == 1:\n",
    "            vic_1 += 1\n",
    "        else:\n",
    "            vic_2 += 1 \n",
    "        juegos_tot += 1 \n",
    "    return juegos_tot \n",
    "\n",
    "juego() \n",
    "    "
   ]
  },
  {
   "cell_type": "code",
   "execution_count": 126,
   "id": "4d447411-27d3-4795-a85f-5149b157cac2",
   "metadata": {},
   "outputs": [],
   "source": [
    "def juegos_muchos(pruebas):\n",
    "    casos_tot = []\n",
    "    for i in range(pruebas+1):\n",
    "        resultado = juego()\n",
    "        casos_tot.append(resultado)\n",
    "    return casos_tot "
   ]
  },
  {
   "cell_type": "code",
   "execution_count": 130,
   "id": "7c47489f-43d8-4846-b784-9f579a001295",
   "metadata": {},
   "outputs": [],
   "source": [
    "lista_casos_tot = juegos_muchos(50000) \n"
   ]
  },
  {
   "cell_type": "code",
   "execution_count": 134,
   "id": "dc9b0f2e-1307-4950-9592-1bd07d5f7ab4",
   "metadata": {},
   "outputs": [
    {
     "data": {
      "text/plain": [
       "0.3118137637247255"
      ]
     },
     "execution_count": 134,
     "metadata": {},
     "output_type": "execute_result"
    }
   ],
   "source": [
    "(np.array(lista_casos_tot) == 7).mean() #.sum() \n"
   ]
  },
  {
   "cell_type": "markdown",
   "id": "cec76e2a-edd2-4c3e-8131-1c460afd4648",
   "metadata": {},
   "source": [
    "4.- Una en mil personas tienen una enfermedad H, y la prueba de la enfermedad sale correcta 98% de las veces cuando la persona está enferma. Por otro lado, si la persona está enferma la prueba tiene un error del 1%. Si alguien se hace una prueba y sale positiva, ¿cuál es la probabilidad de que tengan la enfermedad? (98/1097)"
   ]
  },
  {
   "cell_type": "code",
   "execution_count": null,
   "id": "46549790-f164-426f-93df-9649288e5f6a",
   "metadata": {},
   "outputs": [],
   "source": [
    "$$ P(D=1) = 0.1% $$\n",
    "$$P(T=1)|D=1) = 98%$$\n",
    "$$P(T=1|D=0) = 1%\n",
    "#Bernoulli es que la prob sea 1 o 0 \n"
   ]
  },
  {
   "cell_type": "code",
   "execution_count": 118,
   "id": "b1a8c9ef-cf86-49c0-913e-329d166e79e3",
   "metadata": {},
   "outputs": [
    {
     "data": {
      "text/plain": [
       "0.08940092165898618"
      ]
     },
     "execution_count": 118,
     "metadata": {},
     "output_type": "execute_result"
    }
   ],
   "source": [
    "import numpy as np \n",
    "n = 100000\n",
    "personas = np.random.choice([0,1], n,p=[0.999, 0.001])\n",
    "t1_d1 = np.random.choice([0,1], personas.sum(), p=[0.02, 0.98])\n",
    "t1_d0 = np.random.choice([0,1], n-personas.sum(), p = [0.99, 0.01])\n",
    "t1_d1.sum()/(t1_d1.sum() + t1_d0.sum())"
   ]
  },
  {
   "cell_type": "markdown",
   "id": "f3f910a8-6833-4b5c-9002-dc2e59076ad1",
   "metadata": {},
   "source": [
    "¿Cuál es la probabilidad de que sí esté enfermo dado que la prueba dio positivo? \n",
    "$$P(D=1| T=1) = ? $$"
   ]
  },
  {
   "cell_type": "code",
   "execution_count": null,
   "id": "ebf38f8d-4378-4757-903f-be4a1935135e",
   "metadata": {},
   "outputs": [],
   "source": [
    "100000\n",
    "100 se enferman \n",
    "98 salen positivos \n",
    "2 salen negativos \n",
    "99900 sanas \n",
    "999 salen positivas \n",
    "98901 salen negativas "
   ]
  },
  {
   "cell_type": "code",
   "execution_count": 116,
   "id": "def2e702-bf25-42c6-a10a-cecf63673629",
   "metadata": {},
   "outputs": [
    {
     "data": {
      "text/plain": [
       "0.08933454876937101"
      ]
     },
     "execution_count": 116,
     "metadata": {},
     "output_type": "execute_result"
    }
   ],
   "source": [
    "98/(98+999) #es los que sí estoy enfermo entre los enfermo + los falso positivos "
   ]
  },
  {
   "cell_type": "code",
   "execution_count": null,
   "id": "8887a4e7-e0f2-4750-9943-e7c186727b61",
   "metadata": {},
   "outputs": [],
   "source": []
  },
  {
   "cell_type": "markdown",
   "id": "1ebe77a1-2f7e-4348-9d81-88f945a34d7b",
   "metadata": {},
   "source": [
    "5.- Tres amigos diferentes te dijeron que está lloviendo, y cada persona tiene 1/3 de probabilidad de mentir. Si el pronóstico del clima dijo que la probabilidad de lluvia era 25%, ¿cuál es la probabilidad de que sí esté lloviendo? (8/11)"
   ]
  },
  {
   "cell_type": "code",
   "execution_count": null,
   "id": "c541fe40-08e4-491c-a6ca-5f9915fcdcdd",
   "metadata": {},
   "outputs": [],
   "source": [
    "import random \n",
    "def lluvia(pronostico =0.25): \n",
    "    amigo_1 = random.choice([1, 1, -1])\n",
    "    amigo_2 = random.choice([1, 1, -1])\n",
    "    amigo_3 = random.choice([1, 1, -1])\n",
    "    \n",
    "    \n",
    "    "
   ]
  },
  {
   "cell_type": "markdown",
   "id": "79b95a15-3139-4181-a23d-8eb368835300",
   "metadata": {},
   "source": [
    "6.- Resuelve y añade a esta actividad los ejercicios que están en el notebook \"Distribuciones de probabilidad.ipynb\""
   ]
  },
  {
   "cell_type": "markdown",
   "id": "af799cdc-2413-479b-95b4-adf6ddd42286",
   "metadata": {},
   "source": [
    "1.- Avientas un dado tres veces. ¿Cuál es la probabilidad de tirar dos 6 seguidos?"
   ]
  },
  {
   "cell_type": "code",
   "execution_count": 141,
   "id": "3476d344-6587-44cd-a848-60bb3ea388e5",
   "metadata": {},
   "outputs": [
    {
     "data": {
      "text/plain": [
       "0.05"
      ]
     },
     "execution_count": 141,
     "metadata": {},
     "output_type": "execute_result"
    }
   ],
   "source": [
    "n = 100\n",
    "np.random.seed(0)\n",
    "d1 = np.random.randint(1,7,n)\n",
    "d2 = np.random.randint(1,7,n)\n",
    "d3 = np.random.randint(1,7,n)\n",
    "np.vstack((d1,d2,d3))\n",
    "\n",
    "caso1 = ((d1 == 6) & (d2 == 6) & (d3 != 6)) \n",
    "caso2 = ((d2 == 6) & (d3 == 6)& (d1 != 6))\n",
    "caso3 = ((d1 == 6) & (d2 == 6) & (d3 == 6)) \n",
    "\n",
    "(caso1.sum() + caso2.sum() + caso3.sum())/n"
   ]
  },
  {
   "cell_type": "code",
   "execution_count": 144,
   "id": "e339fce8-da79-4c70-b73c-70cbe951ab1b",
   "metadata": {},
   "outputs": [
    {
     "data": {
      "text/plain": [
       "0.05092592592592592"
      ]
     },
     "execution_count": 144,
     "metadata": {},
     "output_type": "execute_result"
    }
   ],
   "source": [
    "11/216"
   ]
  },
  {
   "cell_type": "markdown",
   "id": "f66b7fb8-80d1-4256-bcba-be0c875749b4",
   "metadata": {},
   "source": [
    "2.- Avientas tres dados, uno tras otro. ¿Cuál es la probabilidad de obtener número sólo en orden ascendente?"
   ]
  },
  {
   "cell_type": "code",
   "execution_count": 149,
   "id": "13a178cf-bd06-4b2d-ad33-c327de2e6e03",
   "metadata": {},
   "outputs": [
    {
     "data": {
      "text/plain": [
       "0.093112"
      ]
     },
     "execution_count": 149,
     "metadata": {},
     "output_type": "execute_result"
    }
   ],
   "source": [
    "n = 1000000\n",
    "np.random.seed(10)\n",
    "d1 = np.random.randint(1,7,n)\n",
    "d2 = np.random.randint(1,7,n)\n",
    "d3 = np.random.randint(1,7,n)\n",
    "\n",
    "exito = (d3 > d2) & (d2 > d1)\n",
    "exito.sum()/n"
   ]
  },
  {
   "cell_type": "code",
   "execution_count": 152,
   "id": "95006976-b4a9-4b8c-ba4c-6949b12e2532",
   "metadata": {},
   "outputs": [
    {
     "data": {
      "text/plain": [
       "0.09259259259259259"
      ]
     },
     "execution_count": 152,
     "metadata": {},
     "output_type": "execute_result"
    }
   ],
   "source": [
    "5/54"
   ]
  },
  {
   "cell_type": "markdown",
   "id": "476a3138-838c-4959-8934-b7352615d1c8",
   "metadata": {},
   "source": [
    "3.- Tienes una baraja con 100 cartas, con valores del 1 al 100. Tomas dos cartas aleatoriamente sin reemplazo. ¿Cuál es la probabilidad de que una carta valga el doble que la otra?"
   ]
  },
  {
   "cell_type": "code",
   "execution_count": null,
   "id": "e18c5071-e404-4fe1-9ef1-f8de9db20479",
   "metadata": {},
   "outputs": [],
   "source": []
  }
 ],
 "metadata": {
  "kernelspec": {
   "display_name": "Python 3 (ipykernel)",
   "language": "python",
   "name": "python3"
  },
  "language_info": {
   "codemirror_mode": {
    "name": "ipython",
    "version": 3
   },
   "file_extension": ".py",
   "mimetype": "text/x-python",
   "name": "python",
   "nbconvert_exporter": "python",
   "pygments_lexer": "ipython3",
   "version": "3.12.4"
  }
 },
 "nbformat": 4,
 "nbformat_minor": 5
}
