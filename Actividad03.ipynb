{
 "cells": [
  {
   "cell_type": "code",
   "execution_count": 2,
   "id": "68c36a5b-6733-447e-bb2f-52087c671e92",
   "metadata": {},
   "outputs": [
    {
     "data": {
      "text/plain": [
       "[1, 2, 3]"
      ]
     },
     "execution_count": 2,
     "metadata": {},
     "output_type": "execute_result"
    }
   ],
   "source": [
    "alumnos = [1,2]\n",
    "alumnos.append(3) \n",
    "alumnos "
   ]
  },
  {
   "cell_type": "code",
   "execution_count": 29,
   "id": "b4d3a7dc-cf65-4cf3-adf3-356d4da3792f",
   "metadata": {},
   "outputs": [
    {
     "data": {
      "text/plain": [
       "False"
      ]
     },
     "execution_count": 29,
     "metadata": {},
     "output_type": "execute_result"
    }
   ],
   "source": [
    "def esprimo(a):\n",
    "    if a==0:\n",
    "        print(\"a no puede ser 0 porque no podemos dividir entre 0\") \n",
    "    else: \n",
    "        contador = 0 \n",
    "        for i in range(1, a+1):\n",
    "            cociente = a%i \n",
    "            if cociente ==0:\n",
    "                contador += 1 \n",
    "        if contador > 2:\n",
    "            return False\n",
    "        else: \n",
    "            return True\n",
    "esprimo(4) "
   ]
  },
  {
   "cell_type": "code",
   "execution_count": 53,
   "id": "b089d61c-8307-4548-964b-7ac29d170b23",
   "metadata": {},
   "outputs": [
    {
     "data": {
      "text/plain": [
       "'Hola'"
      ]
     },
     "execution_count": 53,
     "metadata": {},
     "output_type": "execute_result"
    }
   ],
   "source": [
    "def esprimo(a):\n",
    "    if a < 0 or a > 100:\n",
    "        print(\"a tiene que ser menor a 100 y mayor a 0\") \n",
    "    else: \n",
    "        contador = 0 \n",
    "\n",
    "        for i in range(1, a+1):\n",
    "            cociente = a%i \n",
    "            if cociente ==0:\n",
    "                contador += 1 \n",
    "        if contador > 2:\n",
    "            \n",
    "\n",
    "\n",
    "            \n",
    "        else: \n",
    "            return(\"el número primo más cercano de \" +str(a) +\" es \" + str(a))\n",
    "esprimo(8) "
   ]
  },
  {
   "cell_type": "code",
   "execution_count": 55,
   "id": "0ef05b42-d0b5-4d5a-8e42-97a8f5ee7444",
   "metadata": {},
   "outputs": [],
   "source": [
    "def funcion1(a) :\n",
    "    print(a)\n",
    "\n",
    "def funcion2(b) :\n",
    "    print(b)\n",
    "\n",
    "def funcion3(a, b) :\n",
    "    funcion1(a)\n",
    "    funcion2(b)\n",
    "    print(a+b)\n",
    "    "
   ]
  },
  {
   "cell_type": "code",
   "execution_count": 57,
   "id": "c860ff9d-a453-4d81-990f-525d06212d47",
   "metadata": {},
   "outputs": [
    {
     "name": "stdout",
     "output_type": "stream",
     "text": [
      "1\n",
      "2\n",
      "3\n"
     ]
    }
   ],
   "source": [
    "funcion3(1, 2)"
   ]
  },
  {
   "cell_type": "code",
   "execution_count": null,
   "id": "b2c6c16e-8845-4680-9cbe-52f280a3281e",
   "metadata": {},
   "outputs": [],
   "source": []
  }
 ],
 "metadata": {
  "kernelspec": {
   "display_name": "Python 3 (ipykernel)",
   "language": "python",
   "name": "python3"
  },
  "language_info": {
   "codemirror_mode": {
    "name": "ipython",
    "version": 3
   },
   "file_extension": ".py",
   "mimetype": "text/x-python",
   "name": "python",
   "nbconvert_exporter": "python",
   "pygments_lexer": "ipython3",
   "version": "3.12.4"
  }
 },
 "nbformat": 4,
 "nbformat_minor": 5
}
