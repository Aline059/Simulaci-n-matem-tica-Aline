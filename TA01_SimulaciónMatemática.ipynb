{
 "cells": [
  {
   "cell_type": "markdown",
   "id": "58975403-900b-4772-bd4d-125ec9751a9a",
   "metadata": {},
   "source": [
    "# **FACTORIAL DE UN NÚMERO**"
   ]
  },
  {
   "cell_type": "code",
   "execution_count": 15,
   "id": "66ad4747-d49c-4c3e-bcc8-2c879fd2e780",
   "metadata": {},
   "outputs": [
    {
     "name": "stdout",
     "output_type": "stream",
     "text": [
      "120\n"
     ]
    }
   ],
   "source": [
    "a = 5 \n",
    "i = 1 \n",
    "suma = 0\n",
    "operación = 1 \n",
    "for i in range(2,a+1):\n",
    "    #print(i)\n",
    "    operación = operación * i\n",
    "#print(suma) \n",
    "print(operación) \n",
    "\n",
    "#Ese fue el primer intento hecho en clase pero está terrible  "
   ]
  },
  {
   "cell_type": "code",
   "execution_count": 25,
   "id": "f2b83c3b-5430-47ee-8167-ec7615dc8c17",
   "metadata": {},
   "outputs": [
    {
     "name": "stdout",
     "output_type": "stream",
     "text": [
      "3628800\n"
     ]
    }
   ],
   "source": [
    "a = 10 \n",
    "suma = 1 \n",
    "for i in range (2,a+1):\n",
    "    variable_guarda_suma = suma * i \n",
    "    suma = variable_guarda_suma \n",
    "\n",
    "print(suma)\n",
    "#Se me bloqueó la cabeza en clase y mi error en el primer intento es que intentaba hacer que el primer valor de la multiplicación \n",
    "# aumentara de 1 en 1 al igual que la i, cuando en realidad lo que tenía que hacer ese valor era guardar el resultado de la multiplicación en cada iteración del ciclo  "
   ]
  },
  {
   "cell_type": "markdown",
   "id": "c21efa09-0a57-454f-b959-f8445a446aba",
   "metadata": {},
   "source": [
    "# **NÚMEROS PRIMOS** "
   ]
  },
  {
   "cell_type": "code",
   "execution_count": 33,
   "id": "6dde0798-07ad-4eda-914c-3d02a7d3bb9c",
   "metadata": {},
   "outputs": [
    {
     "name": "stdout",
     "output_type": "stream",
     "text": [
      "El numero 12 no es un número primo\n"
     ]
    }
   ],
   "source": [
    "a = 12 \n",
    "if a==0:\n",
    "    print(\"a no puede ser 0 porque no podemos dividir entre 0\") \n",
    "else: \n",
    "    contador = 0 \n",
    "    for i in range(1, a+1):\n",
    "        cociente = a%i \n",
    "        if cociente ==0:\n",
    "            contador += 1 \n",
    "    if contador > 2:\n",
    "        print(\"El numero \" + str(a) + \" no es un número primo\")\n",
    "    else: \n",
    "        print(\"El numero \" + str(a) + \" sí es un número primo\")"
   ]
  },
  {
   "cell_type": "code",
   "execution_count": null,
   "id": "3277e717-6843-4afd-8b88-e55d3f08249a",
   "metadata": {},
   "outputs": [],
   "source": []
  }
 ],
 "metadata": {
  "kernelspec": {
   "display_name": "Python 3 (ipykernel)",
   "language": "python",
   "name": "python3"
  },
  "language_info": {
   "codemirror_mode": {
    "name": "ipython",
    "version": 3
   },
   "file_extension": ".py",
   "mimetype": "text/x-python",
   "name": "python",
   "nbconvert_exporter": "python",
   "pygments_lexer": "ipython3",
   "version": "3.12.4"
  }
 },
 "nbformat": 4,
 "nbformat_minor": 5
}
