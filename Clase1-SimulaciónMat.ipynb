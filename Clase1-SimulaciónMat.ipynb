{
  "metadata": {
    "kernelspec": {
      "name": "python",
      "display_name": "Python (Pyodide)",
      "language": "python"
    },
    "language_info": {
      "codemirror_mode": {
        "name": "python",
        "version": 3
      },
      "file_extension": ".py",
      "mimetype": "text/x-python",
      "name": "python",
      "nbconvert_exporter": "python",
      "pygments_lexer": "ipython3",
      "version": "3.8"
    }
  },
  "nbformat_minor": 4,
  "nbformat": 4,
  "cells": [
    {
      "cell_type": "code",
      "source": "1 + 1 \n",
      "metadata": {
        "trusted": true
      },
      "outputs": [],
      "execution_count": null
    },
    {
      "cell_type": "markdown",
      "source": "2",
      "metadata": {}
    },
    {
      "cell_type": "markdown",
      "source": "#Simulación",
      "metadata": {}
    },
    {
      "cell_type": "markdown",
      "source": "#Simulación ",
      "metadata": {}
    },
    {
      "cell_type": "markdown",
      "source": "# Calificación de chocolate de acuerdo al grupo",
      "metadata": {}
    },
    {
      "cell_type": "markdown",
      "source": "- Blanco $8.5$\n",
      "metadata": {}
    },
    {
      "cell_type": "markdown",
      "source": "* *Confitado* ",
      "metadata": {}
    },
    {
      "cell_type": "markdown",
      "source": "De los chocolates anteriormente descritos mi orden de preferencia es: \n1. Blanco\n2. Negro\n3. Con leche\n4. Con almendras\n5. Confitado ",
      "metadata": {}
    },
    {
      "cell_type": "code",
      "source": "\\frac es el comando de fracción   el alt de la derecha y la tecla al lado de el 0  \\frac{} {}\n$ Es para ecuación en una línea, osea texto luego la ecuación luego más texto \n$$ Es para ecuación en una nueva línea \n\\sqrt{ } ",
      "metadata": {
        "trusted": true
      },
      "outputs": [],
      "execution_count": null
    },
    {
      "cell_type": "markdown",
      "source": "$\\frac{2}{3}$",
      "metadata": {}
    },
    {
      "cell_type": "markdown",
      "source": "$\\sqrt{2}$",
      "metadata": {}
    },
    {
      "cell_type": "markdown",
      "source": "$$ e^{expresion^2} $$  ",
      "metadata": {}
    },
    {
      "cell_type": "markdown",
      "source": "$$\\alpha$$",
      "metadata": {}
    },
    {
      "cell_type": "code",
      "source": "",
      "metadata": {
        "trusted": true
      },
      "outputs": [],
      "execution_count": null
    }
  ]
}