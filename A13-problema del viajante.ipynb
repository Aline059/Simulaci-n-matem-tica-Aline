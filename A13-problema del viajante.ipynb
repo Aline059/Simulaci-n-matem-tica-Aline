{
 "cells": [
  {
   "cell_type": "markdown",
   "id": "f6e65919-ea33-41c5-8788-7f767019ed9b",
   "metadata": {},
   "source": [
    "# A13 - PROBLEMA DEL VIAJANTE "
   ]
  },
  {
   "cell_type": "markdown",
   "id": "e48225f8-e8ea-4a6e-a6d0-a82f0e749e3e",
   "metadata": {},
   "source": [
    "#### Aline Rockenzahn Gallegos"
   ]
  },
  {
   "cell_type": "markdown",
   "id": "b8285b8f-48d5-461b-a48e-0a433836ebe9",
   "metadata": {},
   "source": [
    "#### Jueves 07 Noviembre 2024  "
   ]
  },
  {
   "cell_type": "code",
   "execution_count": 1,
   "id": "51d1119a-785d-48cd-bf41-f9f1cd3cf8f2",
   "metadata": {},
   "outputs": [],
   "source": [
    "#optimización convexa: de donde epecemos la regresión lineal siempre nos va a dar una respuesta. Fue lo que nos pasó en el repaso con las polinomiales. \n",
    "#una función convexa: siempre podré conectar un punto con otro. Garantizo que sólo hay un min global. \n",
    "#forma convexa: puedo esocger cualesquiera dos puntos en el espacio y simepre podré conectarlos. \n"
   ]
  },
  {
   "cell_type": "markdown",
   "id": "85e8bf53-dce7-4159-958b-82e956a48e46",
   "metadata": {},
   "source": [
    "Si vamos a un festival de tacos y queremos los mejores tacos del lugar, pruebas todos. Te tienes que equivocar para encontrar el valor adecuado. \n",
    "Pero si haces muchas combinaciones puede que el programa se tarde mucho. Podríamos hacer montecarlo. \n",
    "Todo lo que vimos en unidad 1 y 2 podríamos modelarlo con funciones continueas. El cuadrado de la regresión lineal es para forzarlo a que sea convexo. \n",
    "¿Cómo definiríamos el problema de viajes? \n",
    "en realidad son procesos ya establecidos que sólo los reacomodo. Parece cartón de huevo, o sea hay muchísimas rutas posibles que son buenas. \n",
    "Si quiero un método numérico que me diga de dónde partir necesito decirle de dónde partir así que ya para que estoy optimizando. \n",
    "Tercel parcial es una combinación de u1 y u2. Optimizar el problema con métodos heurísticos. \n",
    "\n",
    "\n"
   ]
  },
  {
   "cell_type": "markdown",
   "id": "069585a8-ee01-4b34-b2f8-e83bbd5d4f2c",
   "metadata": {},
   "source": [
    "PASO 1 "
   ]
  },
  {
   "cell_type": "code",
   "execution_count": 95,
   "id": "7a789e36-b8c1-497d-b4f2-bc69359080d4",
   "metadata": {},
   "outputs": [
    {
     "data": {
      "text/html": [
       "<div>\n",
       "<style scoped>\n",
       "    .dataframe tbody tr th:only-of-type {\n",
       "        vertical-align: middle;\n",
       "    }\n",
       "\n",
       "    .dataframe tbody tr th {\n",
       "        vertical-align: top;\n",
       "    }\n",
       "\n",
       "    .dataframe thead th {\n",
       "        text-align: right;\n",
       "    }\n",
       "</style>\n",
       "<table border=\"1\" class=\"dataframe\">\n",
       "  <thead>\n",
       "    <tr style=\"text-align: right;\">\n",
       "      <th></th>\n",
       "      <th>Tijuana</th>\n",
       "      <th>Mérida</th>\n",
       "      <th>GDL</th>\n",
       "      <th>México</th>\n",
       "      <th>León</th>\n",
       "      <th>Monterrey</th>\n",
       "      <th>Tapachula</th>\n",
       "      <th>Chihuahua</th>\n",
       "    </tr>\n",
       "    <tr>\n",
       "      <th>indice</th>\n",
       "      <th></th>\n",
       "      <th></th>\n",
       "      <th></th>\n",
       "      <th></th>\n",
       "      <th></th>\n",
       "      <th></th>\n",
       "      <th></th>\n",
       "      <th></th>\n",
       "    </tr>\n",
       "  </thead>\n",
       "  <tbody>\n",
       "    <tr>\n",
       "      <th>Tijuana</th>\n",
       "      <td>0</td>\n",
       "      <td>4180</td>\n",
       "      <td>2306</td>\n",
       "      <td>2848</td>\n",
       "      <td>2529</td>\n",
       "      <td>2409</td>\n",
       "      <td>4005</td>\n",
       "      <td>1583</td>\n",
       "    </tr>\n",
       "    <tr>\n",
       "      <th>Mérida</th>\n",
       "      <td>4180</td>\n",
       "      <td>0</td>\n",
       "      <td>1874</td>\n",
       "      <td>1332</td>\n",
       "      <td>1719</td>\n",
       "      <td>2046</td>\n",
       "      <td>1062</td>\n",
       "      <td>2819</td>\n",
       "    </tr>\n",
       "    <tr>\n",
       "      <th>GDL</th>\n",
       "      <td>2306</td>\n",
       "      <td>1874</td>\n",
       "      <td>0</td>\n",
       "      <td>542</td>\n",
       "      <td>223</td>\n",
       "      <td>789</td>\n",
       "      <td>1699</td>\n",
       "      <td>1202</td>\n",
       "    </tr>\n",
       "    <tr>\n",
       "      <th>México</th>\n",
       "      <td>2848</td>\n",
       "      <td>1332</td>\n",
       "      <td>542</td>\n",
       "      <td>0</td>\n",
       "      <td>389</td>\n",
       "      <td>933</td>\n",
       "      <td>1157</td>\n",
       "      <td>1487</td>\n",
       "    </tr>\n",
       "    <tr>\n",
       "      <th>León</th>\n",
       "      <td>2529</td>\n",
       "      <td>1719</td>\n",
       "      <td>223</td>\n",
       "      <td>389</td>\n",
       "      <td>0</td>\n",
       "      <td>711</td>\n",
       "      <td>1544</td>\n",
       "      <td>1140</td>\n",
       "    </tr>\n",
       "    <tr>\n",
       "      <th>Monterrey</th>\n",
       "      <td>2409</td>\n",
       "      <td>2046</td>\n",
       "      <td>789</td>\n",
       "      <td>933</td>\n",
       "      <td>711</td>\n",
       "      <td>0</td>\n",
       "      <td>1803</td>\n",
       "      <td>826</td>\n",
       "    </tr>\n",
       "    <tr>\n",
       "      <th>Tapachula</th>\n",
       "      <td>4005</td>\n",
       "      <td>1062</td>\n",
       "      <td>1699</td>\n",
       "      <td>1157</td>\n",
       "      <td>1544</td>\n",
       "      <td>1803</td>\n",
       "      <td>0</td>\n",
       "      <td>2644</td>\n",
       "    </tr>\n",
       "    <tr>\n",
       "      <th>Chihuahua</th>\n",
       "      <td>1583</td>\n",
       "      <td>2819</td>\n",
       "      <td>1202</td>\n",
       "      <td>1487</td>\n",
       "      <td>1140</td>\n",
       "      <td>826</td>\n",
       "      <td>2644</td>\n",
       "      <td>0</td>\n",
       "    </tr>\n",
       "  </tbody>\n",
       "</table>\n",
       "</div>"
      ],
      "text/plain": [
       "           Tijuana  Mérida   GDL  México  León  Monterrey  Tapachula  \\\n",
       "indice                                                                 \n",
       "Tijuana          0    4180  2306    2848  2529       2409       4005   \n",
       "Mérida        4180       0  1874    1332  1719       2046       1062   \n",
       "GDL           2306    1874     0     542   223        789       1699   \n",
       "México        2848    1332   542       0   389        933       1157   \n",
       "León          2529    1719   223     389     0        711       1544   \n",
       "Monterrey     2409    2046   789     933   711          0       1803   \n",
       "Tapachula     4005    1062  1699    1157  1544       1803          0   \n",
       "Chihuahua     1583    2819  1202    1487  1140        826       2644   \n",
       "\n",
       "           Chihuahua  \n",
       "indice                \n",
       "Tijuana         1583  \n",
       "Mérida          2819  \n",
       "GDL             1202  \n",
       "México          1487  \n",
       "León            1140  \n",
       "Monterrey        826  \n",
       "Tapachula       2644  \n",
       "Chihuahua          0  "
      ]
     },
     "execution_count": 95,
     "metadata": {},
     "output_type": "execute_result"
    }
   ],
   "source": [
    "import warnings\n",
    "warnings.simplefilter(action='ignore', category=FutureWarning)\n",
    "#Tuve que usar ese comando porque salen como 100 líneas de \"advertencias\" que estorban en el doc. Preguntar sobre eso \n",
    "\n",
    "import pandas as pd \n",
    "tabla =  pd.read_excel(\"datosCT.xlsx\", sheet_name=\"8c\").set_index(\"indice\") #le cambié el nombre a la primera columna para facilitar los cálculos después \n",
    "tabla "
   ]
  },
  {
   "cell_type": "code",
   "execution_count": 97,
   "id": "84e1e40a-6baf-41a2-95b9-7563d34e5cd2",
   "metadata": {},
   "outputs": [
    {
     "data": {
      "text/plain": [
       "array(['León', 'Chihuahua', 'Monterrey', 'Mérida', 'Tijuana', 'GDL',\n",
       "       'Tapachula', 'México'], dtype='<U9')"
      ]
     },
     "execution_count": 97,
     "metadata": {},
     "output_type": "execute_result"
    }
   ],
   "source": [
    "import numpy as np \n",
    "import random \n",
    "\n",
    "def ciudades():\n",
    "    ciudades = [\"Tijuana\", \"Mérida\", \"GDL\", \"México\", \"León\", \"Monterrey\", \"Tapachula\", \"Chihuahua\"]\n",
    "    escoge = np.random.choice(ciudades, size=8, replace=False)\n",
    "    return np.array(escoge) \n",
    "\n",
    "R1 = ciudades()\n",
    "R1"
   ]
  },
  {
   "cell_type": "code",
   "execution_count": 99,
   "id": "ff44692a-7a73-4f7c-9776-133d04bd5c8d",
   "metadata": {},
   "outputs": [],
   "source": [
    "def intercambio(lista):\n",
    "    posiciones = np.random.choice([0,1,2,3,4,5,6,7], replace=False, size=2)\n",
    "    ciudad1 = lista[posiciones[0]] \n",
    "    ciudad2 = lista[posiciones[1]] \n",
    "    lista[posiciones[0]] = ciudad2\n",
    "    lista[posiciones[1]] = ciudad1 \n",
    "    return lista"
   ]
  },
  {
   "cell_type": "code",
   "execution_count": 101,
   "id": "8894c461-2448-4b30-bc6d-5be1749d2aae",
   "metadata": {},
   "outputs": [
    {
     "data": {
      "text/plain": [
       "array(['León', 'Tapachula', 'Monterrey', 'Mérida', 'Tijuana', 'GDL',\n",
       "       'Chihuahua', 'México'], dtype='<U9')"
      ]
     },
     "execution_count": 101,
     "metadata": {},
     "output_type": "execute_result"
    }
   ],
   "source": [
    "R2 = intercambio(R1.copy())\n",
    "R2"
   ]
  },
  {
   "cell_type": "code",
   "execution_count": null,
   "id": "3fe0c4b1-6107-4cc8-92d6-4e05e68cf65b",
   "metadata": {},
   "outputs": [],
   "source": []
  },
  {
   "cell_type": "code",
   "execution_count": null,
   "id": "b1b793b1-4a73-4ef7-9228-6e5b5190c725",
   "metadata": {},
   "outputs": [],
   "source": []
  },
  {
   "cell_type": "code",
   "execution_count": 105,
   "id": "1acfa143-23d4-4c2b-9c57-aa79c2f11574",
   "metadata": {},
   "outputs": [],
   "source": [
    "def distancia(ciudad1, ciudad2): # tabla como tercer argumento\n",
    "    if ciudad1 == \"Tijuana\":\n",
    "        indice = 0\n",
    "    if ciudad1 == \"Mérida\":\n",
    "        indice = 1\n",
    "    if ciudad1 == \"GDL\":\n",
    "        indice = 2\n",
    "    if ciudad1 == \"México\":\n",
    "        indice = 3\n",
    "    if ciudad1 == \"León\":\n",
    "        indice = 4\n",
    "    if ciudad1 == \"Monterrey\":\n",
    "        indice = 5\n",
    "    if ciudad1 == \"Tapachula\":\n",
    "        indice = 6\n",
    "    if ciudad1 == \"Chihuahua\":\n",
    "        indice = 7 \n",
    "    tabla =  pd.read_excel(\"datosCT.xlsx\", sheet_name=\"8c\").set_index(\"indice\") #le cambié el nombre a la primera columna para facilitar los cálculos después \n",
    "    distancia = tabla[ciudad2][indice]\n",
    "    return distancia \n"
   ]
  },
  {
   "cell_type": "code",
   "execution_count": 107,
   "id": "e4701c5b-9795-4646-a846-f58ad67e2867",
   "metadata": {},
   "outputs": [],
   "source": [
    "def distancia_total(lista):\n",
    "    km = 0 \n",
    "    dis = []\n",
    "    for i in range(0,8):\n",
    "        res = distancia(lista[i],lista[i+1])\n",
    "        km = km + res\n",
    "        #dis.append(km)\n",
    "        if i == 6: \n",
    "            break\n",
    "    km = km + distancia(lista[0],lista[-1]) \n",
    "    #dis.append(km)\n",
    "    return km  "
   ]
  },
  {
   "cell_type": "code",
   "execution_count": 109,
   "id": "47a38d50-04ec-4096-b1c3-4837a3f0b34d",
   "metadata": {},
   "outputs": [
    {
     "data": {
      "text/plain": [
       "(13743, 14957)"
      ]
     },
     "execution_count": 109,
     "metadata": {},
     "output_type": "execute_result"
    }
   ],
   "source": [
    "distancia_total(R1), distancia_total(R2) "
   ]
  },
  {
   "cell_type": "code",
   "execution_count": 111,
   "id": "f0e69ec1-b338-4f3f-9ea6-44a4ae8e010a",
   "metadata": {},
   "outputs": [],
   "source": [
    "distancia_R1 = distancia_total(R1)\n",
    "distancia_R2 = distancia_total(R2)"
   ]
  },
  {
   "cell_type": "code",
   "execution_count": null,
   "id": "a91cd308-f67d-4bff-932f-3d586f766832",
   "metadata": {},
   "outputs": [],
   "source": []
  },
  {
   "cell_type": "code",
   "execution_count": 114,
   "id": "80e5d0a2-ed5c-4b5b-8222-dcf9177fce0b",
   "metadata": {},
   "outputs": [
    {
     "data": {
      "text/plain": [
       "(13743, 14957)"
      ]
     },
     "execution_count": 114,
     "metadata": {},
     "output_type": "execute_result"
    }
   ],
   "source": [
    "distancia_R1, distancia_R2"
   ]
  },
  {
   "cell_type": "code",
   "execution_count": 116,
   "id": "68359589-62d2-4acf-9c26-47266a0638e6",
   "metadata": {},
   "outputs": [
    {
     "name": "stdout",
     "output_type": "stream",
     "text": [
      "y\n"
     ]
    },
    {
     "data": {
      "text/plain": [
       "array(['León', 'Tapachula', 'Monterrey', 'Mérida', 'Tijuana', 'GDL',\n",
       "       'Chihuahua', 'México'], dtype='<U9')"
      ]
     },
     "execution_count": 116,
     "metadata": {},
     "output_type": "execute_result"
    }
   ],
   "source": [
    "T = 1000 #qué es T ? \n",
    "q = np.exp((distancia_R1 - distancia_R2 )/(T))\n",
    "p = np.random.choice([0,1]) \n",
    "if p < q:\n",
    "    print(\"y\")\n",
    "    R1 = R2.copy()  #Crea un nuevo objeto con el contenido de R2 y se lo asigna a R1 \n",
    "R1"
   ]
  },
  {
   "cell_type": "code",
   "execution_count": 118,
   "id": "4251e325-acee-4a3d-af34-b50e0d52d72e",
   "metadata": {},
   "outputs": [],
   "source": [
    "#En este caso sí fue p < q "
   ]
  },
  {
   "cell_type": "markdown",
   "id": "d2c79ac6-1f11-48e9-b048-655c36dda926",
   "metadata": {},
   "source": [
    "PASO 2 "
   ]
  },
  {
   "cell_type": "code",
   "execution_count": 121,
   "id": "377db7c2-81f9-4c6d-a02b-70b0c7d746cc",
   "metadata": {},
   "outputs": [],
   "source": [
    "R1 = ciudades()\n",
    "def paso2(R1, N):\n",
    "    for i in range(N): \n",
    "        R2 = intercambio(R1.copy()) \n",
    "        distancia_R1 = distancia_total(R1)\n",
    "        distancia_R2 = distancia_total(R2)\n",
    "        T = 1000 \n",
    "        q = np.exp((distancia_R1 - distancia_R2 )/(T))\n",
    "        p = np.random.choice([0,1]) \n",
    "        if p < q:\n",
    "            R1 = R2.copy()\n",
    "    return R1 \n",
    "    "
   ]
  },
  {
   "cell_type": "code",
   "execution_count": 123,
   "id": "c9af5095-6b3d-4104-9809-0209df8d04b8",
   "metadata": {},
   "outputs": [
    {
     "data": {
      "text/plain": [
       "array(['Chihuahua', 'Tapachula', 'Tijuana', 'Monterrey', 'GDL', 'León',\n",
       "       'Mérida', 'México'], dtype='<U9')"
      ]
     },
     "execution_count": 123,
     "metadata": {},
     "output_type": "execute_result"
    }
   ],
   "source": [
    "paso2(R1, 10)"
   ]
  },
  {
   "cell_type": "markdown",
   "id": "d60f2811-7072-4b58-93c0-24308bd0c2e7",
   "metadata": {},
   "source": [
    "PASO 3 "
   ]
  },
  {
   "cell_type": "code",
   "execution_count": 134,
   "id": "7d9acfd7-6aeb-48ff-b4d8-15a70553a765",
   "metadata": {},
   "outputs": [],
   "source": [
    "def paso3(T,N):\n",
    "    R1 = ciudades()\n",
    "    while T > 1:\n",
    "        ruta_final = paso2(R1,N)\n",
    "        R1 = ruta_final.copy() \n",
    "        T = T*0.90 \n",
    "    return R1 \n",
    "    "
   ]
  },
  {
   "cell_type": "code",
   "execution_count": 136,
   "id": "0927fce9-583a-41b1-86ec-a893c7c7b2de",
   "metadata": {},
   "outputs": [
    {
     "data": {
      "text/plain": [
       "array(['Tapachula', 'Tijuana', 'Chihuahua', 'León', 'México', 'Mérida',\n",
       "       'GDL', 'Monterrey'], dtype='<U9')"
      ]
     },
     "execution_count": 136,
     "metadata": {},
     "output_type": "execute_result"
    }
   ],
   "source": [
    "paso3(1000,10)"
   ]
  },
  {
   "cell_type": "code",
   "execution_count": 138,
   "id": "35876792-d668-4851-8e96-6dade80fb0ac",
   "metadata": {},
   "outputs": [],
   "source": [
    "def paso4(T,M,N):\n",
    "    rutas = [] \n",
    "    distancias = [] \n",
    "    m = 0\n",
    "    while m < M:\n",
    "        R1 = paso3(T,N) \n",
    "        distancia = distancia_total(R1)\n",
    "        rutas.append(R1)\n",
    "        distancias.append(distancia)\n",
    "    return rutas, distancias \n"
   ]
  },
  {
   "cell_type": "code",
   "execution_count": null,
   "id": "8420c62b-e7ec-456f-bc14-b20c5f4bfd27",
   "metadata": {},
   "outputs": [],
   "source": [
    "paso4(1000,8,5) "
   ]
  },
  {
   "cell_type": "code",
   "execution_count": null,
   "id": "dd78f115-894a-413b-8e62-a8dd6e63d072",
   "metadata": {},
   "outputs": [],
   "source": []
  }
 ],
 "metadata": {
  "kernelspec": {
   "display_name": "Python 3 (ipykernel)",
   "language": "python",
   "name": "python3"
  },
  "language_info": {
   "codemirror_mode": {
    "name": "ipython",
    "version": 3
   },
   "file_extension": ".py",
   "mimetype": "text/x-python",
   "name": "python",
   "nbconvert_exporter": "python",
   "pygments_lexer": "ipython3",
   "version": "3.12.4"
  }
 },
 "nbformat": 4,
 "nbformat_minor": 5
}
